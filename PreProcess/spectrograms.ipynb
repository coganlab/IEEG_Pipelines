{
 "cells": [
  {
   "cell_type": "code",
   "execution_count": 1,
   "metadata": {
    "collapsed": true
   },
   "outputs": [
    {
     "name": "stdout",
     "output_type": "stream",
     "text": [
      "Opening raw data file C:\\Users\\ae166\\Box\\CoganLab\\BIDS-1.0_SentenceRep\\BIDS/derivatives/sub-D0029_SentenceRep_filt_ieeg.fif...\n",
      "    Range : 0 ... 3805183 =      0.000 ...  1858.000 secs\n",
      "Ready.\n",
      "Opening raw data file C:\\Users\\ae166\\Box\\CoganLab\\BIDS-1.0_SentenceRep\\BIDS\\derivatives\\sub-D0029_SentenceRep_filt_ieeg-1.fif...\n",
      "    Range : 3805184 ... 7610367 =   1858.000 ...  3716.000 secs\n",
      "Ready.\n",
      "Opening raw data file C:\\Users\\ae166\\Box\\CoganLab\\BIDS-1.0_SentenceRep\\BIDS\\derivatives\\sub-D0029_SentenceRep_filt_ieeg-2.fif...\n",
      "    Range : 7610368 ... 9328639 =   3716.000 ...  4555.000 secs\n",
      "Ready.\n"
     ]
    }
   ],
   "source": [
    "import mne\n",
    "from bids import BIDSLayout\n",
    "from PreProcess.utils.utils import LAB_root\n",
    "from PreProcess.timefreq.multitaper import spectrogram\n",
    "from PreProcess.navigate import crop_data, channel_outlier_marker\n",
    "from task.SentenceRep.events import fix_annotations\n",
    "import numpy as np\n",
    "import matplotlib as mpl\n",
    "try:\n",
    "    mpl.use(\"TkAgg\")\n",
    "except ImportError:\n",
    "    pass\n",
    "bids_root = mne.datasets.epilepsy_ecog.data_path()\n",
    "layout = BIDSLayout(LAB_root + \"/BIDS-1.0_SentenceRep/BIDS\")\n",
    "filt = mne.io.read_raw_fif(layout.root + \"/derivatives/sub-D00\" + str(29) + \"_\" + \"SentenceRep\" + \"_filt_ieeg.fif\")"
   ]
  },
  {
   "cell_type": "code",
   "execution_count": 2,
   "outputs": [
    {
     "name": "stdout",
     "output_type": "stream",
     "text": [
      "Reading 0 ... 3824503  =      0.000 ...  1867.433 secs...\n",
      "Applying average reference.\n",
      "Applying a custom ('sEEG',) reference.\n"
     ]
    }
   ],
   "source": [
    "# Crop raw data to minimize processing time\n",
    "new = crop_data(filt)\n",
    "\n",
    "# Mark channel outliers as bad\n",
    "channel_outlier_marker(new)\n",
    "\n",
    "# Exclude bad channels\n",
    "good = new.copy().drop_channels(new.info['bads'])\n",
    "good.load_data()\n",
    "\n",
    "# CAR\n",
    "good.set_eeg_reference(ref_channels=\"average\", ch_type='seeg')\n",
    "\n",
    "# Remove intermediates from mem\n",
    "del new"
   ],
   "metadata": {
    "collapsed": false
   }
  },
  {
   "cell_type": "code",
   "execution_count": 3,
   "outputs": [],
   "source": [
    "fix_annotations(good)"
   ],
   "metadata": {
    "collapsed": false
   }
  },
  {
   "cell_type": "code",
   "execution_count": null,
   "outputs": [
    {
     "name": "stdout",
     "output_type": "stream",
     "text": [
      "Used Annotations descriptions: ['Sentence/Audio', 'Sentence/BAD boundary', 'Sentence/EDGE boundary', 'Sentence/Response', 'Sentence/Speak', 'Start/:=:', 'Start/Listen', 'Word/Audio', 'Word/BAD boundary', 'Word/EDGE boundary', 'Word/Mime', 'Word/Response', 'Word/Speak']\n",
      "Not setting metadata\n",
      "180 matching events found\n",
      "No baseline correction applied\n",
      "0 projection items activated\n",
      "Using data from preloaded Raw for 180 events and 6145 original time points ...\n",
      "0 bad epochs dropped\n",
      "Not setting metadata\n",
      "270 matching events found\n",
      "No baseline correction applied\n",
      "0 projection items activated\n",
      "Using data from preloaded Raw for 270 events and 3073 original time points ...\n",
      "0 bad epochs dropped\n"
     ]
    },
    {
     "name": "stderr",
     "output_type": "stream",
     "text": [
      "[Parallel(n_jobs=6)]: Using backend LokyBackend with 6 concurrent workers.\n",
      "[Parallel(n_jobs=6)]: Done  12 tasks      | elapsed:   54.9s\n",
      "[Parallel(n_jobs=6)]: Done  66 tasks      | elapsed:  5.5min\n",
      "[Parallel(n_jobs=6)]: Done 140 out of 140 | elapsed: 11.3min finished\n",
      "[Parallel(n_jobs=6)]: Using backend LokyBackend with 6 concurrent workers.\n",
      "[Parallel(n_jobs=6)]: Done  12 tasks      | elapsed:   55.1s\n",
      "[Parallel(n_jobs=6)]: Done  66 tasks      | elapsed:  4.5min\n"
     ]
    }
   ],
   "source": [
    "freqs = np.arange(10, 200., 2.)\n",
    "spectra = spectrogram(good, 'Word/Audio', -0.5, 1.5, 'Start', -0.5, 0, freqs, n_jobs=6, verbose=10)\n",
    "import matplotlib\n",
    "%matplotlib inline\n",
    "spectra.plot([57], vmin=0.7, vmax=1.4)"
   ],
   "metadata": {
    "collapsed": false,
    "pycharm": {
     "is_executing": true
    }
   }
  }
 ],
 "metadata": {
  "kernelspec": {
   "display_name": "Python 3",
   "language": "python",
   "name": "python3"
  },
  "language_info": {
   "codemirror_mode": {
    "name": "ipython",
    "version": 2
   },
   "file_extension": ".py",
   "mimetype": "text/x-python",
   "name": "python",
   "nbconvert_exporter": "python",
   "pygments_lexer": "ipython2",
   "version": "2.7.6"
  }
 },
 "nbformat": 4,
 "nbformat_minor": 0
}
