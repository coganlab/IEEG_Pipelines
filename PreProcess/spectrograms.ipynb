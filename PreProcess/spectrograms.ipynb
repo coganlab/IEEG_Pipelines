{
 "cells": [
  {
   "cell_type": "code",
   "execution_count": 1,
   "metadata": {
    "collapsed": true
   },
   "outputs": [
    {
     "name": "stdout",
     "output_type": "stream",
     "text": [
      "Opening raw data file C:\\Users\\ae166\\Box\\CoganLab\\BIDS-1.0_SentenceRep\\BIDS/derivatives/sub-D0029_SentenceRep_filt_ieeg.fif...\n",
      "    Range : 0 ... 3805183 =      0.000 ...  1858.000 secs\n",
      "Ready.\n",
      "Opening raw data file C:\\Users\\ae166\\Box\\CoganLab\\BIDS-1.0_SentenceRep\\BIDS\\derivatives\\sub-D0029_SentenceRep_filt_ieeg-1.fif...\n",
      "    Range : 3805184 ... 7610367 =   1858.000 ...  3716.000 secs\n",
      "Ready.\n",
      "Opening raw data file C:\\Users\\ae166\\Box\\CoganLab\\BIDS-1.0_SentenceRep\\BIDS\\derivatives\\sub-D0029_SentenceRep_filt_ieeg-2.fif...\n",
      "    Range : 7610368 ... 9328639 =   3716.000 ...  4555.000 secs\n",
      "Ready.\n"
     ]
    }
   ],
   "source": [
    "import mne\n",
    "from bids import BIDSLayout\n",
    "from PreProcess.utils.utils import LAB_root\n",
    "from PreProcess.timefreq.multitaper import spectrogram\n",
    "from PreProcess.navigate import crop_data, channel_outlier_marker\n",
    "import numpy as np\n",
    "import matplotlib as mpl\n",
    "try:\n",
    "    mpl.use(\"TkAgg\")\n",
    "except ImportError:\n",
    "    pass\n",
    "bids_root = mne.datasets.epilepsy_ecog.data_path()\n",
    "layout = BIDSLayout(LAB_root + \"/BIDS-1.0_SentenceRep/BIDS\")\n",
    "filt = mne.io.read_raw_fif(layout.root + \"/derivatives/sub-D00\" + str(29) + \"_\" + \"SentenceRep\" + \"_filt_ieeg.fif\")"
   ]
  },
  {
   "cell_type": "code",
   "execution_count": 2,
   "outputs": [
    {
     "name": "stdout",
     "output_type": "stream",
     "text": [
      "Reading 0 ... 3824503  =      0.000 ...  1867.433 secs...\n",
      "Applying average reference.\n",
      "Applying a custom ('sEEG',) reference.\n"
     ]
    }
   ],
   "source": [
    "# Crop raw data to minimize processing time\n",
    "new = crop_data(filt)\n",
    "\n",
    "# Mark channel outliers as bad\n",
    "channel_outlier_marker(new)\n",
    "\n",
    "# Exclude bad channels\n",
    "good = new.copy().drop_channels(new.info['bads'])\n",
    "good.load_data()\n",
    "\n",
    "# CAR\n",
    "good.set_eeg_reference(ref_channels=\"average\", ch_type='seeg')\n",
    "\n",
    "# Remove intermediates from mem\n",
    "del new"
   ],
   "metadata": {
    "collapsed": false
   }
  },
  {
   "cell_type": "code",
   "execution_count": 3,
   "outputs": [
    {
     "name": "stdout",
     "output_type": "stream",
     "text": [
      "Used Annotations descriptions: ['Sentence/Audio', 'Sentence/BAD boundary', 'Sentence/EDGE boundary', 'Sentence/Response', 'Sentence/Speak', 'Start/:=:', 'Start/Listen', 'Word/Audio', 'Word/BAD boundary', 'Word/EDGE boundary', 'Word/Mime', 'Word/Response', 'Word/Speak']\n"
     ]
    }
   ],
   "source": [
    "# fix SentenceRep events\n",
    "is_sent = False\n",
    "annot = None\n",
    "for event in good.annotations:\n",
    "    if event['description'] in ['Audio']:\n",
    "        if event['duration'] > 1:\n",
    "            is_sent = True\n",
    "        else:\n",
    "            is_sent = False\n",
    "    if event['description'] not in [ 'Listen', ':=:' ]:\n",
    "        if is_sent:\n",
    "            trial_type = \"Sentence/\"\n",
    "        else:\n",
    "            trial_type = \"Word/\"\n",
    "    else:\n",
    "        trial_type = \"Start/\"\n",
    "    event['description'] = trial_type + event['description']\n",
    "    if annot is None:\n",
    "        annot = mne.Annotations(**event)\n",
    "    else:\n",
    "        event.pop('orig_time')\n",
    "        annot.append(**event)\n",
    "good.set_annotations(annot)\n",
    "# events, event_id = mne.events_from_annotations(good)\n",
    "# events = mne.merge_events(events, [1, 2], 14, replace_events=True)\n",
    "# event_id['Start'] = 14\n",
    "# event_id = dict([(value, key) for key, value in event_id.items()])\n",
    "# annot = mne.annotations_from_events(events, filt.info['sfreq'], event_id)\n",
    "# filt.set_annotations(annot)"
   ],
   "metadata": {
    "collapsed": false
   }
  },
  {
   "cell_type": "code",
   "execution_count": 5,
   "outputs": [
    {
     "name": "stdout",
     "output_type": "stream",
     "text": [
      "Used Annotations descriptions: ['Sentence/Audio', 'Sentence/BAD boundary', 'Sentence/EDGE boundary', 'Sentence/Response', 'Sentence/Speak', 'Start/:=:', 'Start/Listen', 'Word/Audio', 'Word/BAD boundary', 'Word/EDGE boundary', 'Word/Mime', 'Word/Response', 'Word/Speak']\n",
      "Not setting metadata\n",
      "180 matching events found\n",
      "No baseline correction applied\n",
      "0 projection items activated\n",
      "Using data from preloaded Raw for 180 events and 6145 original time points ...\n",
      "0 bad epochs dropped\n",
      "Not setting metadata\n",
      "270 matching events found\n",
      "No baseline correction applied\n",
      "0 projection items activated\n",
      "Using data from preloaded Raw for 270 events and 3073 original time points ...\n",
      "0 bad epochs dropped\n"
     ]
    },
    {
     "name": "stderr",
     "output_type": "stream",
     "text": [
      "[Parallel(n_jobs=-1)]: Using backend LokyBackend with 8 concurrent workers.\n",
      "[Parallel(n_jobs=-1)]: Done  10 tasks      | elapsed:  1.2min\n",
      "[Parallel(n_jobs=-1)]: Done  11 tasks      | elapsed:  1.2min\n",
      "[Parallel(n_jobs=-1)]: Done  12 tasks      | elapsed:  1.2min\n",
      "[Parallel(n_jobs=-1)]: Done  13 tasks      | elapsed:  1.2min\n",
      "[Parallel(n_jobs=-1)]: Done  14 tasks      | elapsed:  1.2min\n",
      "[Parallel(n_jobs=-1)]: Done  15 tasks      | elapsed:  1.2min\n",
      "[Parallel(n_jobs=-1)]: Done  16 tasks      | elapsed:  1.2min\n",
      "[Parallel(n_jobs=-1)]: Done  17 tasks      | elapsed:  1.2min\n"
     ]
    },
    {
     "ename": "KeyboardInterrupt",
     "evalue": "",
     "output_type": "error",
     "traceback": [
      "\u001B[1;31m---------------------------------------------------------------------------\u001B[0m",
      "\u001B[1;31mKeyboardInterrupt\u001B[0m                         Traceback (most recent call last)",
      "Cell \u001B[1;32mIn[5], line 2\u001B[0m\n\u001B[0;32m      1\u001B[0m freqs \u001B[38;5;241m=\u001B[39m np\u001B[38;5;241m.\u001B[39marange(\u001B[38;5;241m10\u001B[39m, \u001B[38;5;241m200.\u001B[39m, \u001B[38;5;241m2.\u001B[39m)\n\u001B[1;32m----> 2\u001B[0m spectra \u001B[38;5;241m=\u001B[39m \u001B[43mspectrogram\u001B[49m\u001B[43m(\u001B[49m\u001B[43mgood\u001B[49m\u001B[43m,\u001B[49m\u001B[43m \u001B[49m\u001B[38;5;124;43m'\u001B[39;49m\u001B[38;5;124;43mWord/Audio\u001B[39;49m\u001B[38;5;124;43m'\u001B[39;49m\u001B[43m,\u001B[49m\u001B[43m \u001B[49m\u001B[38;5;241;43m-\u001B[39;49m\u001B[38;5;241;43m0.5\u001B[39;49m\u001B[43m,\u001B[49m\u001B[43m \u001B[49m\u001B[38;5;241;43m1.5\u001B[39;49m\u001B[43m,\u001B[49m\u001B[43m \u001B[49m\u001B[38;5;124;43m'\u001B[39;49m\u001B[38;5;124;43mStart\u001B[39;49m\u001B[38;5;124;43m'\u001B[39;49m\u001B[43m,\u001B[49m\u001B[43m \u001B[49m\u001B[38;5;241;43m-\u001B[39;49m\u001B[38;5;241;43m0.5\u001B[39;49m\u001B[43m,\u001B[49m\u001B[43m \u001B[49m\u001B[38;5;241;43m0\u001B[39;49m\u001B[43m,\u001B[49m\u001B[43m \u001B[49m\u001B[43mfreqs\u001B[49m\u001B[43m,\u001B[49m\u001B[43m \u001B[49m\u001B[43mn_jobs\u001B[49m\u001B[38;5;241;43m=\u001B[39;49m\u001B[38;5;241;43m-\u001B[39;49m\u001B[38;5;241;43m1\u001B[39;49m\u001B[43m,\u001B[49m\u001B[43m \u001B[49m\u001B[43mverbose\u001B[49m\u001B[38;5;241;43m=\u001B[39;49m\u001B[38;5;241;43m10\u001B[39;49m\u001B[43m)\u001B[49m\n\u001B[0;32m      3\u001B[0m spectra\u001B[38;5;241m.\u001B[39mplot([\u001B[38;5;241m57\u001B[39m], vmin\u001B[38;5;241m=\u001B[39m\u001B[38;5;241m0.7\u001B[39m, vmax\u001B[38;5;241m=\u001B[39m\u001B[38;5;241m1.4\u001B[39m)\n",
      "File \u001B[1;32m~\\.conda\\envs\\preprocess\\lib\\functools.py:889\u001B[0m, in \u001B[0;36msingledispatch.<locals>.wrapper\u001B[1;34m(*args, **kw)\u001B[0m\n\u001B[0;32m    885\u001B[0m \u001B[38;5;28;01mif\u001B[39;00m \u001B[38;5;129;01mnot\u001B[39;00m args:\n\u001B[0;32m    886\u001B[0m     \u001B[38;5;28;01mraise\u001B[39;00m \u001B[38;5;167;01mTypeError\u001B[39;00m(\u001B[38;5;124mf\u001B[39m\u001B[38;5;124m'\u001B[39m\u001B[38;5;132;01m{\u001B[39;00mfuncname\u001B[38;5;132;01m}\u001B[39;00m\u001B[38;5;124m requires at least \u001B[39m\u001B[38;5;124m'\u001B[39m\n\u001B[0;32m    887\u001B[0m                     \u001B[38;5;124m'\u001B[39m\u001B[38;5;124m1 positional argument\u001B[39m\u001B[38;5;124m'\u001B[39m)\n\u001B[1;32m--> 889\u001B[0m \u001B[38;5;28;01mreturn\u001B[39;00m dispatch(args[\u001B[38;5;241m0\u001B[39m]\u001B[38;5;241m.\u001B[39m\u001B[38;5;18m__class__\u001B[39m)(\u001B[38;5;241m*\u001B[39margs, \u001B[38;5;241m*\u001B[39m\u001B[38;5;241m*\u001B[39mkw)\n",
      "File \u001B[1;32m~\\git\\IEEG_Pipelines\\PreProcess\\timefreq\\multitaper.py:225\u001B[0m, in \u001B[0;36m_\u001B[1;34m(line, line_event, tmin, tmax, base_event, base_tmin, base_tmax, freqs, n_cycles, pad, **kwargs)\u001B[0m\n\u001B[0;32m    220\u001B[0m data \u001B[38;5;241m=\u001B[39m Epochs(line, events, dat_ids, tmin \u001B[38;5;241m-\u001B[39m pad_secs,\n\u001B[0;32m    221\u001B[0m               tmax \u001B[38;5;241m+\u001B[39m pad_secs, baseline\u001B[38;5;241m=\u001B[39m\u001B[38;5;28;01mNone\u001B[39;00m, preload\u001B[38;5;241m=\u001B[39m\u001B[38;5;28;01mTrue\u001B[39;00m)\n\u001B[0;32m    222\u001B[0m baseline \u001B[38;5;241m=\u001B[39m Epochs(line, events, base_ids, base_tmin \u001B[38;5;241m-\u001B[39m pad_secs,\n\u001B[0;32m    223\u001B[0m                   base_tmax \u001B[38;5;241m+\u001B[39m pad_secs, baseline\u001B[38;5;241m=\u001B[39m\u001B[38;5;28;01mNone\u001B[39;00m, preload\u001B[38;5;241m=\u001B[39m\u001B[38;5;28;01mTrue\u001B[39;00m)\n\u001B[1;32m--> 225\u001B[0m \u001B[38;5;28;01mreturn\u001B[39;00m spectrogram(data, baseline, freqs, n_cycles, pad, \u001B[38;5;241m*\u001B[39m\u001B[38;5;241m*\u001B[39mkwargs)\n",
      "File \u001B[1;32m~\\.conda\\envs\\preprocess\\lib\\functools.py:889\u001B[0m, in \u001B[0;36msingledispatch.<locals>.wrapper\u001B[1;34m(*args, **kw)\u001B[0m\n\u001B[0;32m    885\u001B[0m \u001B[38;5;28;01mif\u001B[39;00m \u001B[38;5;129;01mnot\u001B[39;00m args:\n\u001B[0;32m    886\u001B[0m     \u001B[38;5;28;01mraise\u001B[39;00m \u001B[38;5;167;01mTypeError\u001B[39;00m(\u001B[38;5;124mf\u001B[39m\u001B[38;5;124m'\u001B[39m\u001B[38;5;132;01m{\u001B[39;00mfuncname\u001B[38;5;132;01m}\u001B[39;00m\u001B[38;5;124m requires at least \u001B[39m\u001B[38;5;124m'\u001B[39m\n\u001B[0;32m    887\u001B[0m                     \u001B[38;5;124m'\u001B[39m\u001B[38;5;124m1 positional argument\u001B[39m\u001B[38;5;124m'\u001B[39m)\n\u001B[1;32m--> 889\u001B[0m \u001B[38;5;28;01mreturn\u001B[39;00m dispatch(args[\u001B[38;5;241m0\u001B[39m]\u001B[38;5;241m.\u001B[39m\u001B[38;5;18m__class__\u001B[39m)(\u001B[38;5;241m*\u001B[39margs, \u001B[38;5;241m*\u001B[39m\u001B[38;5;241m*\u001B[39mkw)\n",
      "File \u001B[1;32m~\\git\\IEEG_Pipelines\\PreProcess\\timefreq\\multitaper.py:192\u001B[0m, in \u001B[0;36mspectrogram\u001B[1;34m(line, baseline, freqs, n_cycles, pad, correction, **kwargs)\u001B[0m\n\u001B[0;32m    189\u001B[0m     n_cycles \u001B[38;5;241m=\u001B[39m freqs \u001B[38;5;241m/\u001B[39m \u001B[38;5;241m2\u001B[39m\n\u001B[0;32m    191\u001B[0m \u001B[38;5;66;03m# calculate time frequency response\u001B[39;00m\n\u001B[1;32m--> 192\u001B[0m power, itc \u001B[38;5;241m=\u001B[39m tfr_multitaper(line, freqs, n_cycles, \u001B[38;5;241m*\u001B[39m\u001B[38;5;241m*\u001B[39mkwargs)\n\u001B[0;32m    193\u001B[0m basepower, bitc \u001B[38;5;241m=\u001B[39m tfr_multitaper(baseline, freqs, n_cycles, \u001B[38;5;241m*\u001B[39m\u001B[38;5;241m*\u001B[39mkwargs)\n\u001B[0;32m    195\u001B[0m \u001B[38;5;66;03m# crop the padding off the spectral estimates\u001B[39;00m\n",
      "File \u001B[1;32m<decorator-gen-188>:10\u001B[0m, in \u001B[0;36mtfr_multitaper\u001B[1;34m(inst, freqs, n_cycles, time_bandwidth, use_fft, return_itc, decim, n_jobs, picks, average, verbose)\u001B[0m\n",
      "File \u001B[1;32m~\\.conda\\envs\\preprocess\\lib\\site-packages\\mne\\time_frequency\\tfr.py:992\u001B[0m, in \u001B[0;36mtfr_multitaper\u001B[1;34m(inst, freqs, n_cycles, time_bandwidth, use_fft, return_itc, decim, n_jobs, picks, average, verbose)\u001B[0m\n\u001B[0;32m    943\u001B[0m \u001B[38;5;124;03m\"\"\"Compute Time-Frequency Representation (TFR) using DPSS tapers.\u001B[39;00m\n\u001B[0;32m    944\u001B[0m \n\u001B[0;32m    945\u001B[0m \u001B[38;5;124;03mSame computation as `~mne.time_frequency.tfr_array_multitaper`, but\u001B[39;00m\n\u001B[1;32m   (...)\u001B[0m\n\u001B[0;32m    988\u001B[0m \u001B[38;5;124;03m.. versionadded:: 0.9.0\u001B[39;00m\n\u001B[0;32m    989\u001B[0m \u001B[38;5;124;03m\"\"\"\u001B[39;00m\n\u001B[0;32m    990\u001B[0m tfr_params \u001B[38;5;241m=\u001B[39m \u001B[38;5;28mdict\u001B[39m(n_cycles\u001B[38;5;241m=\u001B[39mn_cycles, n_jobs\u001B[38;5;241m=\u001B[39mn_jobs, use_fft\u001B[38;5;241m=\u001B[39muse_fft,\n\u001B[0;32m    991\u001B[0m                   zero_mean\u001B[38;5;241m=\u001B[39m\u001B[38;5;28;01mTrue\u001B[39;00m, time_bandwidth\u001B[38;5;241m=\u001B[39mtime_bandwidth)\n\u001B[1;32m--> 992\u001B[0m \u001B[38;5;28;01mreturn\u001B[39;00m _tfr_aux(\u001B[38;5;124m'\u001B[39m\u001B[38;5;124mmultitaper\u001B[39m\u001B[38;5;124m'\u001B[39m, inst, freqs, decim, return_itc, picks,\n\u001B[0;32m    993\u001B[0m                 average, \u001B[38;5;241m*\u001B[39m\u001B[38;5;241m*\u001B[39mtfr_params)\n",
      "File \u001B[1;32m~\\.conda\\envs\\preprocess\\lib\\site-packages\\mne\\time_frequency\\tfr.py:755\u001B[0m, in \u001B[0;36m_tfr_aux\u001B[1;34m(***failed resolving arguments***)\u001B[0m\n\u001B[0;32m    751\u001B[0m     \u001B[38;5;28;01mif\u001B[39;00m return_itc:\n\u001B[0;32m    752\u001B[0m         \u001B[38;5;28;01mraise\u001B[39;00m \u001B[38;5;167;01mValueError\u001B[39;00m(\u001B[38;5;124m'\u001B[39m\u001B[38;5;124mInter-trial coherence is not supported\u001B[39m\u001B[38;5;124m'\u001B[39m\n\u001B[0;32m    753\u001B[0m                          \u001B[38;5;124m'\u001B[39m\u001B[38;5;124m with average=False\u001B[39m\u001B[38;5;124m'\u001B[39m)\n\u001B[1;32m--> 755\u001B[0m out \u001B[38;5;241m=\u001B[39m _compute_tfr(data, freqs, info[\u001B[38;5;124m'\u001B[39m\u001B[38;5;124msfreq\u001B[39m\u001B[38;5;124m'\u001B[39m], method\u001B[38;5;241m=\u001B[39mmethod,\n\u001B[0;32m    756\u001B[0m                    output\u001B[38;5;241m=\u001B[39moutput, decim\u001B[38;5;241m=\u001B[39mdecim, \u001B[38;5;241m*\u001B[39m\u001B[38;5;241m*\u001B[39mtfr_params)\n\u001B[0;32m    757\u001B[0m times \u001B[38;5;241m=\u001B[39m inst\u001B[38;5;241m.\u001B[39mtimes[decim]\u001B[38;5;241m.\u001B[39mcopy()\n\u001B[0;32m    758\u001B[0m \u001B[38;5;28;01mwith\u001B[39;00m info\u001B[38;5;241m.\u001B[39m_unlock():\n",
      "File \u001B[1;32m~\\.conda\\envs\\preprocess\\lib\\site-packages\\mne\\time_frequency\\tfr.py:506\u001B[0m, in \u001B[0;36m_compute_tfr\u001B[1;34m(epoch_data, freqs, sfreq, method, n_cycles, zero_mean, time_bandwidth, use_fft, decim, output, n_jobs, verbose)\u001B[0m\n\u001B[0;32m    503\u001B[0m parallel, my_cwt, n_jobs \u001B[38;5;241m=\u001B[39m parallel_func(_time_frequency_loop, n_jobs)\n\u001B[0;32m    505\u001B[0m \u001B[38;5;66;03m# Parallelization is applied across channels.\u001B[39;00m\n\u001B[1;32m--> 506\u001B[0m tfrs \u001B[38;5;241m=\u001B[39m \u001B[43mparallel\u001B[49m\u001B[43m(\u001B[49m\n\u001B[0;32m    507\u001B[0m \u001B[43m    \u001B[49m\u001B[43mmy_cwt\u001B[49m\u001B[43m(\u001B[49m\u001B[43mchannel\u001B[49m\u001B[43m,\u001B[49m\u001B[43m \u001B[49m\u001B[43mWs\u001B[49m\u001B[43m,\u001B[49m\u001B[43m \u001B[49m\u001B[43moutput\u001B[49m\u001B[43m,\u001B[49m\u001B[43m \u001B[49m\u001B[43muse_fft\u001B[49m\u001B[43m,\u001B[49m\u001B[43m \u001B[49m\u001B[38;5;124;43m'\u001B[39;49m\u001B[38;5;124;43msame\u001B[39;49m\u001B[38;5;124;43m'\u001B[39;49m\u001B[43m,\u001B[49m\u001B[43m \u001B[49m\u001B[43mdecim\u001B[49m\u001B[43m,\u001B[49m\u001B[43m \u001B[49m\u001B[43mmethod\u001B[49m\u001B[43m)\u001B[49m\n\u001B[0;32m    508\u001B[0m \u001B[43m    \u001B[49m\u001B[38;5;28;43;01mfor\u001B[39;49;00m\u001B[43m \u001B[49m\u001B[43mchannel\u001B[49m\u001B[43m \u001B[49m\u001B[38;5;129;43;01min\u001B[39;49;00m\u001B[43m \u001B[49m\u001B[43mepoch_data\u001B[49m\u001B[38;5;241;43m.\u001B[39;49m\u001B[43mtranspose\u001B[49m\u001B[43m(\u001B[49m\u001B[38;5;241;43m1\u001B[39;49m\u001B[43m,\u001B[49m\u001B[43m \u001B[49m\u001B[38;5;241;43m0\u001B[39;49m\u001B[43m,\u001B[49m\u001B[43m \u001B[49m\u001B[38;5;241;43m2\u001B[39;49m\u001B[43m)\u001B[49m\u001B[43m)\u001B[49m\n\u001B[0;32m    510\u001B[0m \u001B[38;5;66;03m# FIXME: to avoid overheads we should use np.array_split()\u001B[39;00m\n\u001B[0;32m    511\u001B[0m \u001B[38;5;28;01mfor\u001B[39;00m channel_idx, tfr \u001B[38;5;129;01min\u001B[39;00m \u001B[38;5;28menumerate\u001B[39m(tfrs):\n",
      "File \u001B[1;32m~\\.conda\\envs\\preprocess\\lib\\site-packages\\joblib\\parallel.py:1061\u001B[0m, in \u001B[0;36mParallel.__call__\u001B[1;34m(self, iterable)\u001B[0m\n\u001B[0;32m   1058\u001B[0m     \u001B[38;5;28mself\u001B[39m\u001B[38;5;241m.\u001B[39m_iterating \u001B[38;5;241m=\u001B[39m \u001B[38;5;28;01mFalse\u001B[39;00m\n\u001B[0;32m   1060\u001B[0m \u001B[38;5;28;01mwith\u001B[39;00m \u001B[38;5;28mself\u001B[39m\u001B[38;5;241m.\u001B[39m_backend\u001B[38;5;241m.\u001B[39mretrieval_context():\n\u001B[1;32m-> 1061\u001B[0m     \u001B[38;5;28;43mself\u001B[39;49m\u001B[38;5;241;43m.\u001B[39;49m\u001B[43mretrieve\u001B[49m\u001B[43m(\u001B[49m\u001B[43m)\u001B[49m\n\u001B[0;32m   1062\u001B[0m \u001B[38;5;66;03m# Make sure that we get a last message telling us we are done\u001B[39;00m\n\u001B[0;32m   1063\u001B[0m elapsed_time \u001B[38;5;241m=\u001B[39m time\u001B[38;5;241m.\u001B[39mtime() \u001B[38;5;241m-\u001B[39m \u001B[38;5;28mself\u001B[39m\u001B[38;5;241m.\u001B[39m_start_time\n",
      "File \u001B[1;32m~\\.conda\\envs\\preprocess\\lib\\site-packages\\joblib\\parallel.py:938\u001B[0m, in \u001B[0;36mParallel.retrieve\u001B[1;34m(self)\u001B[0m\n\u001B[0;32m    936\u001B[0m \u001B[38;5;28;01mtry\u001B[39;00m:\n\u001B[0;32m    937\u001B[0m     \u001B[38;5;28;01mif\u001B[39;00m \u001B[38;5;28mgetattr\u001B[39m(\u001B[38;5;28mself\u001B[39m\u001B[38;5;241m.\u001B[39m_backend, \u001B[38;5;124m'\u001B[39m\u001B[38;5;124msupports_timeout\u001B[39m\u001B[38;5;124m'\u001B[39m, \u001B[38;5;28;01mFalse\u001B[39;00m):\n\u001B[1;32m--> 938\u001B[0m         \u001B[38;5;28mself\u001B[39m\u001B[38;5;241m.\u001B[39m_output\u001B[38;5;241m.\u001B[39mextend(\u001B[43mjob\u001B[49m\u001B[38;5;241;43m.\u001B[39;49m\u001B[43mget\u001B[49m\u001B[43m(\u001B[49m\u001B[43mtimeout\u001B[49m\u001B[38;5;241;43m=\u001B[39;49m\u001B[38;5;28;43mself\u001B[39;49m\u001B[38;5;241;43m.\u001B[39;49m\u001B[43mtimeout\u001B[49m\u001B[43m)\u001B[49m)\n\u001B[0;32m    939\u001B[0m     \u001B[38;5;28;01melse\u001B[39;00m:\n\u001B[0;32m    940\u001B[0m         \u001B[38;5;28mself\u001B[39m\u001B[38;5;241m.\u001B[39m_output\u001B[38;5;241m.\u001B[39mextend(job\u001B[38;5;241m.\u001B[39mget())\n",
      "File \u001B[1;32m~\\.conda\\envs\\preprocess\\lib\\site-packages\\joblib\\_parallel_backends.py:542\u001B[0m, in \u001B[0;36mLokyBackend.wrap_future_result\u001B[1;34m(future, timeout)\u001B[0m\n\u001B[0;32m    539\u001B[0m \u001B[38;5;124;03m\"\"\"Wrapper for Future.result to implement the same behaviour as\u001B[39;00m\n\u001B[0;32m    540\u001B[0m \u001B[38;5;124;03mAsyncResults.get from multiprocessing.\"\"\"\u001B[39;00m\n\u001B[0;32m    541\u001B[0m \u001B[38;5;28;01mtry\u001B[39;00m:\n\u001B[1;32m--> 542\u001B[0m     \u001B[38;5;28;01mreturn\u001B[39;00m \u001B[43mfuture\u001B[49m\u001B[38;5;241;43m.\u001B[39;49m\u001B[43mresult\u001B[49m\u001B[43m(\u001B[49m\u001B[43mtimeout\u001B[49m\u001B[38;5;241;43m=\u001B[39;49m\u001B[43mtimeout\u001B[49m\u001B[43m)\u001B[49m\n\u001B[0;32m    543\u001B[0m \u001B[38;5;28;01mexcept\u001B[39;00m CfTimeoutError \u001B[38;5;28;01mas\u001B[39;00m e:\n\u001B[0;32m    544\u001B[0m     \u001B[38;5;28;01mraise\u001B[39;00m \u001B[38;5;167;01mTimeoutError\u001B[39;00m \u001B[38;5;28;01mfrom\u001B[39;00m \u001B[38;5;21;01me\u001B[39;00m\n",
      "File \u001B[1;32m~\\.conda\\envs\\preprocess\\lib\\concurrent\\futures\\_base.py:453\u001B[0m, in \u001B[0;36mFuture.result\u001B[1;34m(self, timeout)\u001B[0m\n\u001B[0;32m    450\u001B[0m \u001B[38;5;28;01melif\u001B[39;00m \u001B[38;5;28mself\u001B[39m\u001B[38;5;241m.\u001B[39m_state \u001B[38;5;241m==\u001B[39m FINISHED:\n\u001B[0;32m    451\u001B[0m     \u001B[38;5;28;01mreturn\u001B[39;00m \u001B[38;5;28mself\u001B[39m\u001B[38;5;241m.\u001B[39m__get_result()\n\u001B[1;32m--> 453\u001B[0m \u001B[38;5;28;43mself\u001B[39;49m\u001B[38;5;241;43m.\u001B[39;49m\u001B[43m_condition\u001B[49m\u001B[38;5;241;43m.\u001B[39;49m\u001B[43mwait\u001B[49m\u001B[43m(\u001B[49m\u001B[43mtimeout\u001B[49m\u001B[43m)\u001B[49m\n\u001B[0;32m    455\u001B[0m \u001B[38;5;28;01mif\u001B[39;00m \u001B[38;5;28mself\u001B[39m\u001B[38;5;241m.\u001B[39m_state \u001B[38;5;129;01min\u001B[39;00m [CANCELLED, CANCELLED_AND_NOTIFIED]:\n\u001B[0;32m    456\u001B[0m     \u001B[38;5;28;01mraise\u001B[39;00m CancelledError()\n",
      "File \u001B[1;32m~\\.conda\\envs\\preprocess\\lib\\threading.py:320\u001B[0m, in \u001B[0;36mCondition.wait\u001B[1;34m(self, timeout)\u001B[0m\n\u001B[0;32m    318\u001B[0m \u001B[38;5;28;01mtry\u001B[39;00m:    \u001B[38;5;66;03m# restore state no matter what (e.g., KeyboardInterrupt)\u001B[39;00m\n\u001B[0;32m    319\u001B[0m     \u001B[38;5;28;01mif\u001B[39;00m timeout \u001B[38;5;129;01mis\u001B[39;00m \u001B[38;5;28;01mNone\u001B[39;00m:\n\u001B[1;32m--> 320\u001B[0m         \u001B[43mwaiter\u001B[49m\u001B[38;5;241;43m.\u001B[39;49m\u001B[43macquire\u001B[49m\u001B[43m(\u001B[49m\u001B[43m)\u001B[49m\n\u001B[0;32m    321\u001B[0m         gotit \u001B[38;5;241m=\u001B[39m \u001B[38;5;28;01mTrue\u001B[39;00m\n\u001B[0;32m    322\u001B[0m     \u001B[38;5;28;01melse\u001B[39;00m:\n",
      "\u001B[1;31mKeyboardInterrupt\u001B[0m: "
     ]
    }
   ],
   "source": [
    "freqs = np.arange(10, 200., 2.)\n",
    "spectra = spectrogram(good, 'Word/Audio', -0.5, 1.5, 'Start', -0.5, 0, freqs, n_jobs=-1, verbose=10)\n",
    "spectra.plot([57], vmin=0.7, vmax=1.4)"
   ],
   "metadata": {
    "collapsed": false
   }
  }
 ],
 "metadata": {
  "kernelspec": {
   "display_name": "Python 3",
   "language": "python",
   "name": "python3"
  },
  "language_info": {
   "codemirror_mode": {
    "name": "ipython",
    "version": 2
   },
   "file_extension": ".py",
   "mimetype": "text/x-python",
   "name": "python",
   "nbconvert_exporter": "python",
   "pygments_lexer": "ipython2",
   "version": "2.7.6"
  }
 },
 "nbformat": 4,
 "nbformat_minor": 0
}
