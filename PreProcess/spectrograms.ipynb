{
 "cells": [
  {
   "cell_type": "code",
   "execution_count": 1,
   "metadata": {
    "collapsed": true
   },
   "outputs": [
    {
     "name": "stderr",
     "output_type": "stream",
     "text": [
      "C:\\Users\\Jakda\\anaconda3\\envs\\preprocess\\lib\\site-packages\\bids\\layout\\validation.py:156: UserWarning: The PipelineDescription field was superseded by GeneratedBy in BIDS 1.4.0. You can use ``pybids upgrade`` to update your derivative dataset.\n",
      "  warnings.warn(\"The PipelineDescription field was superseded \"\n"
     ]
    },
    {
     "name": "stdout",
     "output_type": "stream",
     "text": [
      "Extracting EDF parameters from C:\\Users\\Jakda\\Box\\CoganLab\\BIDS-1.0_SentenceRep\\BIDS\\derivatives\\clean\\sub-D0029\\ieeg\\sub-D0029_task-SentenceRep_acq-01_run-01_desc-clean_ieeg.edf...\n",
      "EDF file detected\n",
      "Setting channel info structure...\n",
      "Creating raw.info structure...\n",
      "Reading events from C:\\Users\\Jakda\\Box\\CoganLab\\BIDS-1.0_SentenceRep\\BIDS\\derivatives\\clean\\sub-D0029\\ieeg\\sub-D0029_task-SentenceRep_acq-01_run-01_desc-clean_events.tsv.\n",
      "Reading channel info from C:\\Users\\Jakda\\Box\\CoganLab\\BIDS-1.0_SentenceRep\\BIDS\\derivatives\\clean\\sub-D0029\\ieeg\\sub-D0029_task-SentenceRep_acq-01_run-01_desc-clean_channels.tsv.\n",
      "Reading electrode coords from C:\\Users\\Jakda\\Box\\CoganLab\\BIDS-1.0_SentenceRep\\BIDS\\derivatives\\clean\\sub-D0029\\ieeg\\sub-D0029_acq-01_space-ACPC_electrodes.tsv.\n",
      "Reading 0 ... 4190207  =      0.000 ...  2046.000 secs...\n"
     ]
    },
    {
     "name": "stderr",
     "output_type": "stream",
     "text": [
      "C:\\Users\\Jakda\\git\\IEEG_Pipelines\\PreProcess\\navigate.py:116: RuntimeWarning: The number of channels in the channels.tsv sidecar file (141) does not match the number of channels in the raw data file (140). Will not try to set channel names.\n",
      "  new_raw = read_raw_bids(bids_path=BIDS_path)\n",
      "C:\\Users\\Jakda\\git\\IEEG_Pipelines\\PreProcess\\navigate.py:116: RuntimeWarning: Cannot set channel type for the following channels, as they are missing in the raw data: Trigger\n",
      "  new_raw = read_raw_bids(bids_path=BIDS_path)\n",
      "C:\\Users\\Jakda\\git\\IEEG_Pipelines\\PreProcess\\navigate.py:116: RuntimeWarning: participants.tsv file not found for C:\\Users\\Jakda\\Box\\CoganLab\\BIDS-1.0_SentenceRep\\BIDS\\derivatives\\clean\\sub-D0029\\ieeg\\sub-D0029_task-SentenceRep_acq-01_run-01_desc-clean_ieeg.edf\n",
      "  new_raw = read_raw_bids(bids_path=BIDS_path)\n"
     ]
    },
    {
     "name": "stdout",
     "output_type": "stream",
     "text": [
      "Extracting EDF parameters from C:\\Users\\Jakda\\Box\\CoganLab\\BIDS-1.0_SentenceRep\\BIDS\\derivatives\\clean\\sub-D0029\\ieeg\\sub-D0029_task-SentenceRep_acq-01_run-02_desc-clean_ieeg.edf...\n",
      "EDF file detected\n",
      "Setting channel info structure...\n",
      "Creating raw.info structure...\n",
      "Reading events from C:\\Users\\Jakda\\Box\\CoganLab\\BIDS-1.0_SentenceRep\\BIDS\\derivatives\\clean\\sub-D0029\\ieeg\\sub-D0029_task-SentenceRep_acq-01_run-02_desc-clean_events.tsv.\n",
      "Reading channel info from C:\\Users\\Jakda\\Box\\CoganLab\\BIDS-1.0_SentenceRep\\BIDS\\derivatives\\clean\\sub-D0029\\ieeg\\sub-D0029_task-SentenceRep_acq-01_run-02_desc-clean_channels.tsv.\n",
      "Reading electrode coords from C:\\Users\\Jakda\\Box\\CoganLab\\BIDS-1.0_SentenceRep\\BIDS\\derivatives\\clean\\sub-D0029\\ieeg\\sub-D0029_acq-01_space-ACPC_electrodes.tsv.\n",
      "Reading 0 ... 1771519  =      0.000 ...   865.000 secs...\n"
     ]
    },
    {
     "name": "stderr",
     "output_type": "stream",
     "text": [
      "C:\\Users\\Jakda\\git\\IEEG_Pipelines\\PreProcess\\navigate.py:116: RuntimeWarning: Omitted 166 annotation(s) that were outside data range.\n",
      "  new_raw = read_raw_bids(bids_path=BIDS_path)\n",
      "C:\\Users\\Jakda\\git\\IEEG_Pipelines\\PreProcess\\navigate.py:116: RuntimeWarning: The number of channels in the channels.tsv sidecar file (141) does not match the number of channels in the raw data file (140). Will not try to set channel names.\n",
      "  new_raw = read_raw_bids(bids_path=BIDS_path)\n",
      "C:\\Users\\Jakda\\git\\IEEG_Pipelines\\PreProcess\\navigate.py:116: RuntimeWarning: Cannot set channel type for the following channels, as they are missing in the raw data: Trigger\n",
      "  new_raw = read_raw_bids(bids_path=BIDS_path)\n",
      "C:\\Users\\Jakda\\git\\IEEG_Pipelines\\PreProcess\\navigate.py:116: RuntimeWarning: participants.tsv file not found for C:\\Users\\Jakda\\Box\\CoganLab\\BIDS-1.0_SentenceRep\\BIDS\\derivatives\\clean\\sub-D0029\\ieeg\\sub-D0029_task-SentenceRep_acq-01_run-02_desc-clean_ieeg.edf\n",
      "  new_raw = read_raw_bids(bids_path=BIDS_path)\n"
     ]
    },
    {
     "name": "stdout",
     "output_type": "stream",
     "text": [
      "Extracting EDF parameters from C:\\Users\\Jakda\\Box\\CoganLab\\BIDS-1.0_SentenceRep\\BIDS\\derivatives\\clean\\sub-D0029\\ieeg\\sub-D0029_task-SentenceRep_acq-01_run-03_desc-clean_ieeg.edf...\n",
      "EDF file detected\n",
      "Setting channel info structure...\n",
      "Creating raw.info structure...\n",
      "Reading events from C:\\Users\\Jakda\\Box\\CoganLab\\BIDS-1.0_SentenceRep\\BIDS\\derivatives\\clean\\sub-D0029\\ieeg\\sub-D0029_task-SentenceRep_acq-01_run-03_desc-clean_events.tsv.\n",
      "Reading channel info from C:\\Users\\Jakda\\Box\\CoganLab\\BIDS-1.0_SentenceRep\\BIDS\\derivatives\\clean\\sub-D0029\\ieeg\\sub-D0029_task-SentenceRep_acq-01_run-03_desc-clean_channels.tsv.\n",
      "Reading electrode coords from C:\\Users\\Jakda\\Box\\CoganLab\\BIDS-1.0_SentenceRep\\BIDS\\derivatives\\clean\\sub-D0029\\ieeg\\sub-D0029_acq-01_space-ACPC_electrodes.tsv.\n",
      "Reading 0 ... 868351  =      0.000 ...   424.000 secs...\n"
     ]
    },
    {
     "name": "stderr",
     "output_type": "stream",
     "text": [
      "C:\\Users\\Jakda\\git\\IEEG_Pipelines\\PreProcess\\navigate.py:116: RuntimeWarning: Omitted 166 annotation(s) that were outside data range.\n",
      "  new_raw = read_raw_bids(bids_path=BIDS_path)\n",
      "C:\\Users\\Jakda\\git\\IEEG_Pipelines\\PreProcess\\navigate.py:116: RuntimeWarning: The number of channels in the channels.tsv sidecar file (141) does not match the number of channels in the raw data file (140). Will not try to set channel names.\n",
      "  new_raw = read_raw_bids(bids_path=BIDS_path)\n",
      "C:\\Users\\Jakda\\git\\IEEG_Pipelines\\PreProcess\\navigate.py:116: RuntimeWarning: Cannot set channel type for the following channels, as they are missing in the raw data: Trigger\n",
      "  new_raw = read_raw_bids(bids_path=BIDS_path)\n",
      "C:\\Users\\Jakda\\git\\IEEG_Pipelines\\PreProcess\\navigate.py:116: RuntimeWarning: participants.tsv file not found for C:\\Users\\Jakda\\Box\\CoganLab\\BIDS-1.0_SentenceRep\\BIDS\\derivatives\\clean\\sub-D0029\\ieeg\\sub-D0029_task-SentenceRep_acq-01_run-03_desc-clean_ieeg.edf\n",
      "  new_raw = read_raw_bids(bids_path=BIDS_path)\n"
     ]
    },
    {
     "name": "stdout",
     "output_type": "stream",
     "text": [
      "Extracting EDF parameters from C:\\Users\\Jakda\\Box\\CoganLab\\BIDS-1.0_SentenceRep\\BIDS\\derivatives\\clean\\sub-D0029\\ieeg\\sub-D0029_task-SentenceRep_acq-01_run-04_desc-clean_ieeg.edf...\n",
      "EDF file detected\n",
      "Setting channel info structure...\n",
      "Creating raw.info structure...\n",
      "Reading events from C:\\Users\\Jakda\\Box\\CoganLab\\BIDS-1.0_SentenceRep\\BIDS\\derivatives\\clean\\sub-D0029\\ieeg\\sub-D0029_task-SentenceRep_acq-01_run-04_desc-clean_events.tsv.\n",
      "Reading channel info from C:\\Users\\Jakda\\Box\\CoganLab\\BIDS-1.0_SentenceRep\\BIDS\\derivatives\\clean\\sub-D0029\\ieeg\\sub-D0029_task-SentenceRep_acq-01_run-04_desc-clean_channels.tsv.\n",
      "Reading electrode coords from C:\\Users\\Jakda\\Box\\CoganLab\\BIDS-1.0_SentenceRep\\BIDS\\derivatives\\clean\\sub-D0029\\ieeg\\sub-D0029_acq-01_space-ACPC_electrodes.tsv.\n",
      "Reading 0 ... 839679  =      0.000 ...   410.000 secs...\n"
     ]
    },
    {
     "name": "stderr",
     "output_type": "stream",
     "text": [
      "C:\\Users\\Jakda\\git\\IEEG_Pipelines\\PreProcess\\navigate.py:116: RuntimeWarning: Omitted 166 annotation(s) that were outside data range.\n",
      "  new_raw = read_raw_bids(bids_path=BIDS_path)\n",
      "C:\\Users\\Jakda\\git\\IEEG_Pipelines\\PreProcess\\navigate.py:116: RuntimeWarning: The number of channels in the channels.tsv sidecar file (141) does not match the number of channels in the raw data file (140). Will not try to set channel names.\n",
      "  new_raw = read_raw_bids(bids_path=BIDS_path)\n",
      "C:\\Users\\Jakda\\git\\IEEG_Pipelines\\PreProcess\\navigate.py:116: RuntimeWarning: Cannot set channel type for the following channels, as they are missing in the raw data: Trigger\n",
      "  new_raw = read_raw_bids(bids_path=BIDS_path)\n",
      "C:\\Users\\Jakda\\git\\IEEG_Pipelines\\PreProcess\\navigate.py:116: RuntimeWarning: participants.tsv file not found for C:\\Users\\Jakda\\Box\\CoganLab\\BIDS-1.0_SentenceRep\\BIDS\\derivatives\\clean\\sub-D0029\\ieeg\\sub-D0029_task-SentenceRep_acq-01_run-04_desc-clean_ieeg.edf\n",
      "  new_raw = read_raw_bids(bids_path=BIDS_path)\n"
     ]
    },
    {
     "name": "stdout",
     "output_type": "stream",
     "text": [
      "Extracting EDF parameters from C:\\Users\\Jakda\\Box\\CoganLab\\BIDS-1.0_SentenceRep\\BIDS\\derivatives\\clean\\sub-D0029\\ieeg\\sub-D0029_task-SentenceRep_acq-01_run-05_desc-clean_ieeg.edf...\n",
      "EDF file detected\n",
      "Setting channel info structure...\n",
      "Creating raw.info structure...\n",
      "Reading events from C:\\Users\\Jakda\\Box\\CoganLab\\BIDS-1.0_SentenceRep\\BIDS\\derivatives\\clean\\sub-D0029\\ieeg\\sub-D0029_task-SentenceRep_acq-01_run-05_desc-clean_events.tsv.\n",
      "Reading channel info from C:\\Users\\Jakda\\Box\\CoganLab\\BIDS-1.0_SentenceRep\\BIDS\\derivatives\\clean\\sub-D0029\\ieeg\\sub-D0029_task-SentenceRep_acq-01_run-05_desc-clean_channels.tsv.\n",
      "Reading electrode coords from C:\\Users\\Jakda\\Box\\CoganLab\\BIDS-1.0_SentenceRep\\BIDS\\derivatives\\clean\\sub-D0029\\ieeg\\sub-D0029_acq-01_space-ACPC_electrodes.tsv.\n",
      "Reading 0 ... 1667071  =      0.000 ...   814.000 secs...\n"
     ]
    },
    {
     "name": "stderr",
     "output_type": "stream",
     "text": [
      "C:\\Users\\Jakda\\git\\IEEG_Pipelines\\PreProcess\\navigate.py:116: RuntimeWarning: Omitted 164 annotation(s) that were outside data range.\n",
      "  new_raw = read_raw_bids(bids_path=BIDS_path)\n",
      "C:\\Users\\Jakda\\git\\IEEG_Pipelines\\PreProcess\\navigate.py:116: RuntimeWarning: The number of channels in the channels.tsv sidecar file (141) does not match the number of channels in the raw data file (140). Will not try to set channel names.\n",
      "  new_raw = read_raw_bids(bids_path=BIDS_path)\n",
      "C:\\Users\\Jakda\\git\\IEEG_Pipelines\\PreProcess\\navigate.py:116: RuntimeWarning: Cannot set channel type for the following channels, as they are missing in the raw data: Trigger\n",
      "  new_raw = read_raw_bids(bids_path=BIDS_path)\n",
      "C:\\Users\\Jakda\\git\\IEEG_Pipelines\\PreProcess\\navigate.py:116: RuntimeWarning: participants.tsv file not found for C:\\Users\\Jakda\\Box\\CoganLab\\BIDS-1.0_SentenceRep\\BIDS\\derivatives\\clean\\sub-D0029\\ieeg\\sub-D0029_task-SentenceRep_acq-01_run-05_desc-clean_ieeg.edf\n",
      "  new_raw = read_raw_bids(bids_path=BIDS_path)\n"
     ]
    }
   ],
   "source": [
    "import os\n",
    "import sys\n",
    "sys.path.insert(0, os.path.abspath('..'))\n",
    "\n",
    "import mne\n",
    "from bids import BIDSLayout\n",
    "from PreProcess.utils import utils\n",
    "from PreProcess.timefreq.multitaper import spectrogram\n",
    "from PreProcess.navigate import crop_data, channel_outlier_marker, raw_from_layout\n",
    "from task.SentenceRep.events import fix_annotations\n",
    "import numpy as np\n",
    "import matplotlib as mpl\n",
    "try:\n",
    "    mpl.use(\"TkAgg\")\n",
    "except ImportError:\n",
    "    pass\n",
    "layout = BIDSLayout(utils.LAB_root + \"/BIDS-1.0_SentenceRep/BIDS\", derivatives=True)\n",
    "filt = raw_from_layout(layout.derivatives['clean'], subject='D0029', extension='.edf', desc='clean', preload=True)\n",
    "# raw = raw_from_layout(layout, subject='D0057', extension='.edf', desc=None, preload=True)\n",
    "# filt = mne.io.read_raw_fif(layout.root + \"/derivatives/sub-D00\" + str(53) + \"_\" + \"task-SentenceRep\" + \"_eeg.fif\")"
   ]
  },
  {
   "cell_type": "code",
   "execution_count": 2,
   "metadata": {
    "collapsed": false
   },
   "outputs": [
    {
     "name": "stdout",
     "output_type": "stream",
     "text": [
      "outlier round 1 channels: ['RAIP7', 'RAIP10']\n",
      "outlier round 2 channels: ['RAIP7', 'RAIP10', 'LASF8', 'LPSF10']\n",
      "outlier round 3 channels: ['RAIP7', 'RAIP10', 'LASF8', 'LPSF10', 'RPMF8']\n",
      "outlier round 4 channels: ['RAIP7', 'RAIP10', 'LASF8', 'LPSF10', 'RPMF8', 'RASF10']\n",
      "outlier round 5 channels: ['RAIP7', 'RAIP10', 'LASF8', 'LPSF10', 'RPMF8', 'RASF10', 'LASP6']\n",
      "Applying average reference.\n",
      "Applying a custom ('sEEG',) reference.\n"
     ]
    }
   ],
   "source": [
    "# Crop raw data to minimize processing time\n",
    "# new = crop_data(filt)\n",
    "new = filt.copy()\n",
    "# Mark channel outliers as bad\n",
    "new.info['bads'] = channel_outlier_marker(new, 5)\n",
    "\n",
    "# Exclude bad channels\n",
    "good = new.copy().drop_channels(new.info['bads'])\n",
    "good.load_data()\n",
    "\n",
    "# CAR\n",
    "good.set_eeg_reference(ref_channels=\"average\", ch_type='seeg')\n",
    "\n",
    "# Remove intermediates from mem\n",
    "del new"
   ]
  },
  {
   "cell_type": "code",
   "execution_count": 3,
   "metadata": {
    "collapsed": false
   },
   "outputs": [
    {
     "data": {
      "text/plain": "[]"
     },
     "execution_count": 3,
     "metadata": {},
     "output_type": "execute_result"
    }
   ],
   "source": [
    "fix_annotations(good)"
   ]
  },
  {
   "cell_type": "code",
   "execution_count": null,
   "metadata": {
    "collapsed": false,
    "pycharm": {
     "is_executing": true
    }
   },
   "outputs": [
    {
     "name": "stdout",
     "output_type": "stream",
     "text": [
      "Used Annotations descriptions: ['Sentence/Audio/JL', 'Sentence/Audio/LS', 'Sentence/BAD boundary/JL', 'Sentence/BAD boundary/LS', 'Sentence/EDGE boundary/JL', 'Sentence/EDGE boundary/LS', 'Sentence/Response/LS', 'Sentence/Speak/LS', 'Start/:=:/JL', 'Start/Listen/LM', 'Start/Listen/LS', 'Word/Audio/JL', 'Word/Audio/LM', 'Word/Audio/LS', 'Word/BAD boundary/LM', 'Word/EDGE boundary/LM', 'Word/Mime/LM', 'Word/Response/LS', 'Word/Speak/LS']\n",
      "Not setting metadata\n",
      "180 matching events found\n",
      "No baseline correction applied\n",
      "0 projection items activated\n",
      "Using data from preloaded Raw for 180 events and 7169 original time points ...\n",
      "0 bad epochs dropped\n",
      "Not setting metadata\n",
      "270 matching events found\n",
      "No baseline correction applied\n",
      "0 projection items activated\n",
      "Using data from preloaded Raw for 270 events and 3073 original time points ...\n",
      "0 bad epochs dropped\n"
     ]
    },
    {
     "name": "stderr",
     "output_type": "stream",
     "text": [
      "[Parallel(n_jobs=6)]: Using backend LokyBackend with 6 concurrent workers.\n",
      "[Parallel(n_jobs=6)]: Done  12 tasks      | elapsed:  2.8min\n",
      "[Parallel(n_jobs=6)]: Done  66 tasks      | elapsed: 16.5min\n"
     ]
    }
   ],
   "source": [
    "freqs = np.arange(10, 200., 2.)\n",
    "# resp = trial_ieeg(good, \"Word/Response\", (-1.5, 1.5))\n",
    "spectra = spectrogram(good, freqs, 'Word/Audio', -1, 1.5, 'Start', -0.5, 0, n_jobs=6, verbose=10, time_bandwidth=10, n_cycles=freqs/2)"
   ]
  },
  {
   "cell_type": "code",
   "execution_count": null,
   "metadata": {
    "collapsed": false,
    "pycharm": {
     "is_executing": true
    }
   },
   "outputs": [],
   "source": [
    "\n",
    "# with open(\"spectra.npy\", \"rb\") as f:\n",
    "#     spectra = np.load(f, allow_pickle=True)[0]\n",
    "from PreProcess.utils import plotting\n",
    "import matplotlib\n",
    "%matplotlib inline\n",
    "plotting.chan_grid(spectra, vmin=0.7, vmax=1.4)"
   ]
  }
 ],
 "metadata": {
  "kernelspec": {
   "display_name": "Python 3",
   "language": "python",
   "name": "python3"
  },
  "language_info": {
   "codemirror_mode": {
    "name": "ipython",
    "version": 2
   },
   "file_extension": ".py",
   "mimetype": "text/x-python",
   "name": "python",
   "nbconvert_exporter": "python",
   "pygments_lexer": "ipython2",
   "version": "2.7.6"
  }
 },
 "nbformat": 4,
 "nbformat_minor": 0
}
