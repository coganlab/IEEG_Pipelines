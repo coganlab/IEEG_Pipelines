{
 "cells": [
  {
   "cell_type": "code",
   "execution_count": 1,
   "metadata": {},
   "outputs": [],
   "source": [
    "from navigate import get_data, open_dat_file\n",
    "from utils.plotting import figure_compare\n",
    "from filter import line_filter\n",
    "import os.path as op\n",
    "import numpy as np\n",
    "import mne\n",
    "import matplotlib\n",
    "\n",
    "# %% Set up logging\n",
    "mne.set_log_file(\"output.log\",\n",
    "                \"%(levelname)s: %(message)s - %(asctime)s\",\n",
    "                overwrite=True)\n",
    "mne.set_log_level(\"INFO\")"
   ]
  },
  {
   "cell_type": "code",
   "execution_count": 2,
   "metadata": {},
   "outputs": [
    {
     "name": "stderr",
     "output_type": "stream",
     "text": [
      "C:\\Users\\ae166\\git\\IEEG_Pipelines\\PreProcess\\navigate.py:82: RuntimeWarning: The unit for channel(s) Trigger has changed from V to NA.\n",
      "  new_raw = read_raw_bids(bids_path=BIDS_path)\n",
      "C:\\Users\\ae166\\git\\IEEG_Pipelines\\PreProcess\\navigate.py:82: RuntimeWarning: participants.tsv file not found for C:\\Users\\ae166\\Box\\CoganLab\\BIDS-1.0_SentenceRep\\BIDS\\sub-D0029\\ieeg\\sub-D0029_task-SentenceRep_acq-01_run-01_ieeg.edf\n",
      "  new_raw = read_raw_bids(bids_path=BIDS_path)\n",
      "C:\\Users\\ae166\\git\\IEEG_Pipelines\\PreProcess\\navigate.py:82: RuntimeWarning: The unit for channel(s) Trigger has changed from V to NA.\n",
      "  new_raw = read_raw_bids(bids_path=BIDS_path)\n",
      "C:\\Users\\ae166\\git\\IEEG_Pipelines\\PreProcess\\navigate.py:82: RuntimeWarning: participants.tsv file not found for C:\\Users\\ae166\\Box\\CoganLab\\BIDS-1.0_SentenceRep\\BIDS\\sub-D0029\\ieeg\\sub-D0029_task-SentenceRep_acq-01_run-02_ieeg.edf\n",
      "  new_raw = read_raw_bids(bids_path=BIDS_path)\n",
      "C:\\Users\\ae166\\git\\IEEG_Pipelines\\PreProcess\\navigate.py:82: RuntimeWarning: The unit for channel(s) Trigger has changed from V to NA.\n",
      "  new_raw = read_raw_bids(bids_path=BIDS_path)\n",
      "C:\\Users\\ae166\\git\\IEEG_Pipelines\\PreProcess\\navigate.py:82: RuntimeWarning: participants.tsv file not found for C:\\Users\\ae166\\Box\\CoganLab\\BIDS-1.0_SentenceRep\\BIDS\\sub-D0029\\ieeg\\sub-D0029_task-SentenceRep_acq-01_run-03_ieeg.edf\n",
      "  new_raw = read_raw_bids(bids_path=BIDS_path)\n",
      "C:\\Users\\ae166\\git\\IEEG_Pipelines\\PreProcess\\navigate.py:82: RuntimeWarning: The unit for channel(s) Trigger has changed from V to NA.\n",
      "  new_raw = read_raw_bids(bids_path=BIDS_path)\n",
      "C:\\Users\\ae166\\git\\IEEG_Pipelines\\PreProcess\\navigate.py:82: RuntimeWarning: participants.tsv file not found for C:\\Users\\ae166\\Box\\CoganLab\\BIDS-1.0_SentenceRep\\BIDS\\sub-D0029\\ieeg\\sub-D0029_task-SentenceRep_acq-01_run-04_ieeg.edf\n",
      "  new_raw = read_raw_bids(bids_path=BIDS_path)\n",
      "C:\\Users\\ae166\\git\\IEEG_Pipelines\\PreProcess\\navigate.py:82: RuntimeWarning: The unit for channel(s) Trigger has changed from V to NA.\n",
      "  new_raw = read_raw_bids(bids_path=BIDS_path)\n",
      "C:\\Users\\ae166\\git\\IEEG_Pipelines\\PreProcess\\navigate.py:82: RuntimeWarning: participants.tsv file not found for C:\\Users\\ae166\\Box\\CoganLab\\BIDS-1.0_SentenceRep\\BIDS\\sub-D0029\\ieeg\\sub-D0029_task-SentenceRep_acq-01_run-05_ieeg.edf\n",
      "  new_raw = read_raw_bids(bids_path=BIDS_path)\n"
     ]
    }
   ],
   "source": [
    "# %% Load the data\n",
    "HOME = op.expanduser(\"~\")\n",
    "LAB_root = op.join(HOME, \"Box\", \"CoganLab\")\n",
    "layout, raw, D_dat_raw, D_dat_filt = get_data(29, \"SentenceRep\", lab_root=LAB_root)\n",
    "raw_dat = open_dat_file(D_dat_raw, raw.copy().ch_names)\n",
    "dat = open_dat_file(D_dat_filt, raw.copy().ch_names)"
   ]
  },
  {
   "cell_type": "code",
   "execution_count": 1,
   "metadata": {},
   "outputs": [
    {
     "ename": "NameError",
     "evalue": "name 'line_filter' is not defined",
     "output_type": "error",
     "traceback": [
      "\u001B[1;31m---------------------------------------------------------------------------\u001B[0m",
      "\u001B[1;31mNameError\u001B[0m                                 Traceback (most recent call last)",
      "Cell \u001B[1;32mIn[1], line 5\u001B[0m\n\u001B[0;32m      1\u001B[0m \u001B[38;5;66;03m# %% Filter the data\u001B[39;00m\n\u001B[0;32m      2\u001B[0m \u001B[38;5;66;03m# raw.drop_channels(raw.ch_names[10:158])\u001B[39;00m\n\u001B[0;32m      3\u001B[0m \u001B[38;5;66;03m# raw_dat.drop_channels(raw_dat.ch_names[10:158])\u001B[39;00m\n\u001B[0;32m      4\u001B[0m \u001B[38;5;66;03m# dat.drop_channels(dat.ch_names[10:158])\u001B[39;00m\n\u001B[1;32m----> 5\u001B[0m filt \u001B[38;5;241m=\u001B[39m \u001B[43mline_filter\u001B[49m(raw, mt_bandwidth\u001B[38;5;241m=\u001B[39m\u001B[38;5;241m10.0\u001B[39m, n_jobs\u001B[38;5;241m=\u001B[39m\u001B[38;5;241m-\u001B[39m\u001B[38;5;241m1\u001B[39m,\n\u001B[0;32m      6\u001B[0m                     filter_length\u001B[38;5;241m=\u001B[39m\u001B[38;5;124m'\u001B[39m\u001B[38;5;124m700ms\u001B[39m\u001B[38;5;124m'\u001B[39m, verbose\u001B[38;5;241m=\u001B[39m\u001B[38;5;241m10\u001B[39m,\n\u001B[0;32m      7\u001B[0m                     freqs\u001B[38;5;241m=\u001B[39m[\u001B[38;5;241m60\u001B[39m], notch_widths\u001B[38;5;241m=\u001B[39m\u001B[38;5;241m20\u001B[39m)\n\u001B[0;32m      8\u001B[0m filt2 \u001B[38;5;241m=\u001B[39m line_filter(filt, mt_bandwidth\u001B[38;5;241m=\u001B[39m\u001B[38;5;241m10.0\u001B[39m, n_jobs\u001B[38;5;241m=\u001B[39m\u001B[38;5;241m-\u001B[39m\u001B[38;5;241m1\u001B[39m,\n\u001B[0;32m      9\u001B[0m                 filter_length\u001B[38;5;241m=\u001B[39m\u001B[38;5;124m'\u001B[39m\u001B[38;5;124m20s\u001B[39m\u001B[38;5;124m'\u001B[39m, verbose\u001B[38;5;241m=\u001B[39m\u001B[38;5;241m10\u001B[39m,\n\u001B[0;32m     10\u001B[0m                 freqs\u001B[38;5;241m=\u001B[39m[\u001B[38;5;241m120\u001B[39m, \u001B[38;5;241m180\u001B[39m, \u001B[38;5;241m240\u001B[39m], notch_widths\u001B[38;5;241m=\u001B[39m\u001B[38;5;241m20\u001B[39m)\n",
      "\u001B[1;31mNameError\u001B[0m: name 'line_filter' is not defined"
     ]
    }
   ],
   "source": [
    "# %% Filter the data\n",
    "# raw.drop_channels(raw.ch_names[10:158])\n",
    "# raw_dat.drop_channels(raw_dat.ch_names[10:158])\n",
    "# dat.drop_channels(dat.ch_names[10:158])\n",
    "# filt = mne.filter.notch_filter(raw.get_data(), raw.info['sfreq'], [60], notch_widths=20, method='spectrum_fit')\n",
    "filt = line_filter(raw, mt_bandwidth=10.0, n_jobs=-1,\n",
    "                    filter_length='700ms', verbose=10,\n",
    "                    freqs=[60], notch_widths=20)\n",
    "filt2 = line_filter(filt, mt_bandwidth=10.0, n_jobs=-1,\n",
    "                filter_length='20s', verbose=10,\n",
    "                freqs=[120, 180, 240], notch_widths=20)\n"
   ]
  },
  {
   "cell_type": "code",
   "execution_count": null,
   "metadata": {},
   "outputs": [],
   "source": [
    "# %% Plot the data\n",
    "data = [raw, filt, filt2, raw_dat, dat]\n",
    "figure_compare(data, [\"BIDS Un\", \"BIDS 700ms \", \"BIDS 20s+700ms \", \"Un\",\n",
    "                    \"\"], avg=True, verbose=10, proj=True, fmax=250)\n",
    "figure_compare(data, [\"BIDS Un\", \"BIDS 700ms \", \"BIDS 20s+700ms \", \"Un\",\n",
    "                    \"\"], avg=False, verbose=10, proj=True, fmax=250)"
   ]
  },
  {
   "cell_type": "code",
   "execution_count": 4,
   "metadata": {},
   "outputs": [],
   "source": [
    "# load the data\n",
    "filt = mne.io.read_raw_fif(layout.root + \"/derivatives/sub-D00\" + str(29) + \"_\" + \"SentenceRep\" + \"_filt_ieeg.fif\")\n"
   ]
  },
  {
   "cell_type": "code",
   "execution_count": 40,
   "outputs": [
    {
     "name": "stderr",
     "output_type": "stream",
     "text": [
      "[Parallel(n_jobs=6)]: Using backend LokyBackend with 6 concurrent workers.\n",
      "[Parallel(n_jobs=6)]: Done  12 tasks      | elapsed:  2.0min\n",
      "[Parallel(n_jobs=6)]: Done  66 tasks      | elapsed: 10.6min\n",
      "[Parallel(n_jobs=6)]: Done 140 out of 140 | elapsed: 23.9min finished\n"
     ]
    }
   ],
   "source": [
    "freqs = np.arange(10, 200., 2.)\n",
    "events, event_id = mne.events_from_annotations(filt)\n",
    "auds = mne.Epochs(filt, events, event_id, tmin=-1, tmax=1.5, baseline=None)['Audio']\n",
    "power, itc = mne.time_frequency.tfr_multitaper(auds, freqs, time_bandwidth=5.0, n_cycles=freqs / 2, n_jobs=6)\n",
    "# power[0].plot()"
   ],
   "metadata": {
    "collapsed": false
   }
  },
  {
   "cell_type": "code",
   "execution_count": 48,
   "outputs": [
    {
     "data": {
      "text/plain": "<MNEBrowseFigure size 800x800 with 4 Axes>"
     },
     "execution_count": 48,
     "metadata": {},
     "output_type": "execute_result"
    }
   ],
   "source": [
    "# # import matplotlib\n",
    "# # %matplotlib\n",
    "# 57 = lpmf9\n",
    "# power.plot([57], baseline=(None,-.5),mode='mean', vmax=1e-10, vmin=-1e-10)\n",
    "auds.plot()"
   ],
   "metadata": {
    "collapsed": false
   }
  }
 ],
 "metadata": {
  "kernelspec": {
   "display_name": "preprocess",
   "language": "python",
   "name": "python3"
  },
  "language_info": {
   "codemirror_mode": {
    "name": "ipython",
    "version": 3
   },
   "file_extension": ".py",
   "mimetype": "text/x-python",
   "name": "python",
   "nbconvert_exporter": "python",
   "pygments_lexer": "ipython3",
   "version": "3.10.8"
  },
  "orig_nbformat": 4,
  "vscode": {
   "interpreter": {
    "hash": "270eae68e6d6ea83cfb0501106a6a2e9a0417c2484665f1204c45aa995e22a8a"
   }
  }
 },
 "nbformat": 4,
 "nbformat_minor": 2
}
