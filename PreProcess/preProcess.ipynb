{
 "cells": [
  {
   "cell_type": "code",
   "execution_count": 2,
   "metadata": {},
   "outputs": [],
   "source": [
    "from PreProcess.navigate import get_data, open_dat_file, crop_data, channel_outlier_marker\n",
    "from PreProcess.utils.plotting import figure_compare\n",
    "from PreProcess.mt_filter import line_filter\n",
    "import os.path as op\n",
    "import mne\n",
    "\n",
    "# %% Set up logging\n",
    "mne.set_log_file(\"output.log\",\n",
    "                \"%(levelname)s: %(message)s - %(asctime)s\",\n",
    "                overwrite=True)\n",
    "mne.set_log_level(\"INFO\")"
   ]
  },
  {
   "cell_type": "code",
   "execution_count": 3,
   "metadata": {},
   "outputs": [
    {
     "name": "stderr",
     "output_type": "stream",
     "text": [
      "C:\\Users\\ae166\\git\\IEEG_Pipelines\\PreProcess\\navigate.py:94: RuntimeWarning: participants.tsv file not found for C:\\Users\\ae166\\Box\\CoganLab\\BIDS-1.0_SentenceRep\\BIDS\\sub-D0029\\ieeg\\sub-D0029_task-SentenceRep_acq-01_run-01_ieeg.edf\n",
      "  new_raw = read_raw_bids(bids_path=BIDS_path)\n",
      "C:\\Users\\ae166\\git\\IEEG_Pipelines\\PreProcess\\navigate.py:94: RuntimeWarning: participants.tsv file not found for C:\\Users\\ae166\\Box\\CoganLab\\BIDS-1.0_SentenceRep\\BIDS\\sub-D0029\\ieeg\\sub-D0029_task-SentenceRep_acq-01_run-02_ieeg.edf\n",
      "  new_raw = read_raw_bids(bids_path=BIDS_path)\n",
      "C:\\Users\\ae166\\git\\IEEG_Pipelines\\PreProcess\\navigate.py:94: RuntimeWarning: participants.tsv file not found for C:\\Users\\ae166\\Box\\CoganLab\\BIDS-1.0_SentenceRep\\BIDS\\sub-D0029\\ieeg\\sub-D0029_task-SentenceRep_acq-01_run-03_ieeg.edf\n",
      "  new_raw = read_raw_bids(bids_path=BIDS_path)\n",
      "C:\\Users\\ae166\\git\\IEEG_Pipelines\\PreProcess\\navigate.py:94: RuntimeWarning: participants.tsv file not found for C:\\Users\\ae166\\Box\\CoganLab\\BIDS-1.0_SentenceRep\\BIDS\\sub-D0029\\ieeg\\sub-D0029_task-SentenceRep_acq-01_run-04_ieeg.edf\n",
      "  new_raw = read_raw_bids(bids_path=BIDS_path)\n",
      "C:\\Users\\ae166\\git\\IEEG_Pipelines\\PreProcess\\navigate.py:94: RuntimeWarning: participants.tsv file not found for C:\\Users\\ae166\\Box\\CoganLab\\BIDS-1.0_SentenceRep\\BIDS\\sub-D0029\\ieeg\\sub-D0029_task-SentenceRep_acq-01_run-05_ieeg.edf\n",
      "  new_raw = read_raw_bids(bids_path=BIDS_path)\n"
     ]
    }
   ],
   "source": [
    "# %% Load the data\n",
    "TASK = \"SentenceRep\"\n",
    "sub_num = 29\n",
    "HOME = op.expanduser(\"~\")\n",
    "LAB_root = op.join(HOME, \"Box\", \"CoganLab\")\n",
    "layout, raw, D_dat_raw, D_dat_filt = get_data(29, \"SentenceRep\", lab_root=LAB_root)\n",
    "# raw_dat = open_dat_file(D_dat_raw, raw.copy().ch_names)\n",
    "# dat = open_dat_file(D_dat_filt, raw.copy().ch_names)"
   ]
  },
  {
   "cell_type": "code",
   "execution_count": 3,
   "metadata": {},
   "outputs": [
    {
     "name": "stderr",
     "output_type": "stream",
     "text": [
      "channels:   7%|▋         | 10/140 [03:28<45:13, 20.87s/it]\n"
     ]
    },
    {
     "ename": "KeyboardInterrupt",
     "evalue": "",
     "output_type": "error",
     "traceback": [
      "\u001B[1;31m---------------------------------------------------------------------------\u001B[0m",
      "\u001B[1;31mKeyboardInterrupt\u001B[0m                         Traceback (most recent call last)",
      "Cell \u001B[1;32mIn[3], line 7\u001B[0m\n\u001B[0;32m      1\u001B[0m \u001B[38;5;66;03m# %% Filter the data\u001B[39;00m\n\u001B[0;32m      2\u001B[0m \u001B[38;5;66;03m# raw.drop_channels(raw.ch_names[10:158])\u001B[39;00m\n\u001B[0;32m      3\u001B[0m \u001B[38;5;66;03m# raw_dat.drop_channels(raw_dat.ch_names[10:158])\u001B[39;00m\n\u001B[0;32m      4\u001B[0m \u001B[38;5;66;03m# dat.drop_channels(dat.ch_names[10:158])\u001B[39;00m\n\u001B[0;32m      5\u001B[0m \u001B[38;5;66;03m# filt = mne.io.read_raw_fif(layout.root + \"/derivatives/sub-D00\" + str(\u001B[39;00m\n\u001B[0;32m      6\u001B[0m \u001B[38;5;66;03m#         sub_num) + \"_\" + TASK + \"_filt_ieeg.fif\")\u001B[39;00m\n\u001B[1;32m----> 7\u001B[0m filt \u001B[38;5;241m=\u001B[39m \u001B[43mline_filter\u001B[49m\u001B[43m(\u001B[49m\u001B[43mraw\u001B[49m\u001B[43m,\u001B[49m\u001B[43m \u001B[49m\u001B[43mmt_bandwidth\u001B[49m\u001B[38;5;241;43m=\u001B[39;49m\u001B[38;5;241;43m10.0\u001B[39;49m\u001B[43m,\u001B[49m\u001B[43m \u001B[49m\u001B[43mn_jobs\u001B[49m\u001B[38;5;241;43m=\u001B[39;49m\u001B[38;5;241;43m-\u001B[39;49m\u001B[38;5;241;43m1\u001B[39;49m\u001B[43m,\u001B[49m\n\u001B[0;32m      8\u001B[0m \u001B[43m                    \u001B[49m\u001B[43mfilter_length\u001B[49m\u001B[38;5;241;43m=\u001B[39;49m\u001B[38;5;124;43m'\u001B[39;49m\u001B[38;5;124;43m700ms\u001B[39;49m\u001B[38;5;124;43m'\u001B[39;49m\u001B[43m,\u001B[49m\u001B[43m \u001B[49m\u001B[43mverbose\u001B[49m\u001B[38;5;241;43m=\u001B[39;49m\u001B[38;5;241;43m10\u001B[39;49m\u001B[43m,\u001B[49m\n\u001B[0;32m      9\u001B[0m \u001B[43m                    \u001B[49m\u001B[43mfreqs\u001B[49m\u001B[38;5;241;43m=\u001B[39;49m\u001B[43m[\u001B[49m\u001B[38;5;241;43m60\u001B[39;49m\u001B[43m]\u001B[49m\u001B[43m,\u001B[49m\u001B[43m \u001B[49m\u001B[43mnotch_widths\u001B[49m\u001B[38;5;241;43m=\u001B[39;49m\u001B[38;5;241;43m20\u001B[39;49m\u001B[43m)\u001B[49m\n\u001B[0;32m     10\u001B[0m filt2 \u001B[38;5;241m=\u001B[39m line_filter(filt, mt_bandwidth\u001B[38;5;241m=\u001B[39m\u001B[38;5;241m10.0\u001B[39m, n_jobs\u001B[38;5;241m=\u001B[39m\u001B[38;5;241m-\u001B[39m\u001B[38;5;241m1\u001B[39m,\n\u001B[0;32m     11\u001B[0m                 filter_length\u001B[38;5;241m=\u001B[39m\u001B[38;5;124m'\u001B[39m\u001B[38;5;124m20s\u001B[39m\u001B[38;5;124m'\u001B[39m, verbose\u001B[38;5;241m=\u001B[39m\u001B[38;5;241m10\u001B[39m,\n\u001B[0;32m     12\u001B[0m                 freqs\u001B[38;5;241m=\u001B[39m[\u001B[38;5;241m120\u001B[39m, \u001B[38;5;241m180\u001B[39m, \u001B[38;5;241m240\u001B[39m], notch_widths\u001B[38;5;241m=\u001B[39m\u001B[38;5;241m20\u001B[39m)\n",
      "File \u001B[1;32m<decorator-gen-633>:10\u001B[0m, in \u001B[0;36mline_filter\u001B[1;34m(raw, fs, freqs, filter_length, notch_widths, mt_bandwidth, p_value, picks, n_jobs, adaptive, low_bias, copy, verbose)\u001B[0m\n",
      "File \u001B[1;32m~\\git\\IEEG_Pipelines\\PreProcess\\mt_filter.py:150\u001B[0m, in \u001B[0;36mline_filter\u001B[1;34m(raw, fs, freqs, filter_length, notch_widths, mt_bandwidth, p_value, picks, n_jobs, adaptive, low_bias, copy, verbose)\u001B[0m\n\u001B[0;32m    146\u001B[0m     threshold \u001B[38;5;241m=\u001B[39m stats\u001B[38;5;241m.\u001B[39mf\u001B[38;5;241m.\u001B[39mppf(\u001B[38;5;241m1\u001B[39m \u001B[38;5;241m-\u001B[39m p_value \u001B[38;5;241m/\u001B[39m n_times, \u001B[38;5;241m2\u001B[39m,\n\u001B[0;32m    147\u001B[0m                             \u001B[38;5;241m2\u001B[39m \u001B[38;5;241m*\u001B[39m \u001B[38;5;28mlen\u001B[39m(window_fun) \u001B[38;5;241m-\u001B[39m \u001B[38;5;241m2\u001B[39m)\n\u001B[0;32m    148\u001B[0m     \u001B[38;5;28;01mreturn\u001B[39;00m window_fun, threshold\n\u001B[1;32m--> 150\u001B[0m filt\u001B[38;5;241m.\u001B[39m_data[data_idx] \u001B[38;5;241m=\u001B[39m \u001B[43mmt_spectrum_proc\u001B[49m\u001B[43m(\u001B[49m\n\u001B[0;32m    151\u001B[0m \u001B[43m    \u001B[49m\u001B[43mx\u001B[49m\u001B[43m,\u001B[49m\u001B[43m \u001B[49m\u001B[43mfs\u001B[49m\u001B[43m,\u001B[49m\u001B[43m \u001B[49m\u001B[43mfreqs\u001B[49m\u001B[43m,\u001B[49m\u001B[43m \u001B[49m\u001B[43mnotch_widths\u001B[49m\u001B[43m,\u001B[49m\u001B[43m \u001B[49m\u001B[43mpicks\u001B[49m\u001B[43m,\u001B[49m\u001B[43m \u001B[49m\u001B[43mn_jobs\u001B[49m\u001B[43m,\u001B[49m\u001B[43m \u001B[49m\u001B[43mget_window_thresh\u001B[49m\u001B[43m)\u001B[49m\n\u001B[0;32m    153\u001B[0m \u001B[38;5;28;01mreturn\u001B[39;00m filt\n",
      "File \u001B[1;32m~\\git\\IEEG_Pipelines\\PreProcess\\mt_filter.py:169\u001B[0m, in \u001B[0;36mmt_spectrum_proc\u001B[1;34m(x, sfreq, line_freqs, notch_widths, picks, n_jobs, get_wt)\u001B[0m\n\u001B[0;32m    167\u001B[0m     logger\u001B[38;5;241m.\u001B[39mdebug(\u001B[38;5;124mf\u001B[39m\u001B[38;5;124m'\u001B[39m\u001B[38;5;124mProcessing channel \u001B[39m\u001B[38;5;132;01m{\u001B[39;00mii\u001B[38;5;132;01m}\u001B[39;00m\u001B[38;5;124m'\u001B[39m)\n\u001B[0;32m    168\u001B[0m     \u001B[38;5;28;01mif\u001B[39;00m ii \u001B[38;5;129;01min\u001B[39;00m picks:\n\u001B[1;32m--> 169\u001B[0m         x[ii], f \u001B[38;5;241m=\u001B[39m \u001B[43m_mt_remove_win\u001B[49m\u001B[43m(\u001B[49m\u001B[43mx_\u001B[49m\u001B[43m,\u001B[49m\u001B[43m \u001B[49m\u001B[43msfreq\u001B[49m\u001B[43m,\u001B[49m\u001B[43m \u001B[49m\u001B[43mline_freqs\u001B[49m\u001B[43m,\u001B[49m\u001B[43m \u001B[49m\u001B[43mnotch_widths\u001B[49m\u001B[43m,\u001B[49m\n\u001B[0;32m    170\u001B[0m \u001B[43m                                  \u001B[49m\u001B[43mget_wt\u001B[49m\u001B[43m,\u001B[49m\u001B[43m \u001B[49m\u001B[43mn_jobs\u001B[49m\u001B[43m)\u001B[49m\n\u001B[0;32m    171\u001B[0m         freq_list\u001B[38;5;241m.\u001B[39mappend(f)\n\u001B[0;32m    173\u001B[0m \u001B[38;5;66;03m# report found frequencies, but do some sanitizing first by binning into\u001B[39;00m\n\u001B[0;32m    174\u001B[0m \u001B[38;5;66;03m# 1 Hz bins\u001B[39;00m\n",
      "File \u001B[1;32m~\\git\\IEEG_Pipelines\\PreProcess\\mt_filter.py:213\u001B[0m, in \u001B[0;36m_mt_remove_win\u001B[1;34m(x, sfreq, line_freqs, notch_width, get_thresh, n_jobs)\u001B[0m\n\u001B[0;32m    209\u001B[0m     x_out[\u001B[38;5;241m.\u001B[39m\u001B[38;5;241m.\u001B[39m\u001B[38;5;241m.\u001B[39m, idx[\u001B[38;5;241m0\u001B[39m]:stop] \u001B[38;5;241m+\u001B[39m\u001B[38;5;241m=\u001B[39m x_\n\u001B[0;32m    210\u001B[0m     idx[\u001B[38;5;241m0\u001B[39m] \u001B[38;5;241m=\u001B[39m stop\n\u001B[0;32m    212\u001B[0m \u001B[43mmt_utils\u001B[49m\u001B[38;5;241;43m.\u001B[39;49m\u001B[43m_COLA\u001B[49m\u001B[43m(\u001B[49m\u001B[43mprocess\u001B[49m\u001B[43m,\u001B[49m\u001B[43m \u001B[49m\u001B[43mstore\u001B[49m\u001B[43m,\u001B[49m\u001B[43m \u001B[49m\u001B[43mn_times\u001B[49m\u001B[43m,\u001B[49m\u001B[43m \u001B[49m\u001B[43mn_samples\u001B[49m\u001B[43m,\u001B[49m\u001B[43m \u001B[49m\u001B[43mn_overlap\u001B[49m\u001B[43m,\u001B[49m\u001B[43m \u001B[49m\u001B[43msfreq\u001B[49m\u001B[43m,\u001B[49m\n\u001B[1;32m--> 213\u001B[0m \u001B[43m               \u001B[49m\u001B[43mn_jobs\u001B[49m\u001B[38;5;241;43m=\u001B[39;49m\u001B[43mn_jobs\u001B[49m\u001B[43m,\u001B[49m\u001B[43m \u001B[49m\u001B[43mverbose\u001B[49m\u001B[38;5;241;43m=\u001B[39;49m\u001B[38;5;28;43;01mTrue\u001B[39;49;00m\u001B[43m)\u001B[49m\u001B[38;5;241;43m.\u001B[39;49m\u001B[43mfeed\u001B[49m\u001B[43m(\u001B[49m\u001B[43mx\u001B[49m\u001B[43m)\u001B[49m\n\u001B[0;32m    214\u001B[0m \u001B[38;5;28;01massert\u001B[39;00m idx[\u001B[38;5;241m0\u001B[39m] \u001B[38;5;241m==\u001B[39m n_times\n\u001B[0;32m    215\u001B[0m \u001B[38;5;28;01mreturn\u001B[39;00m x_out, rm_freqs\n",
      "File \u001B[1;32m<decorator-gen-632>:12\u001B[0m, in \u001B[0;36mfeed\u001B[1;34m(self, verbose, *datas, **kwargs)\u001B[0m\n",
      "File \u001B[1;32m~\\git\\IEEG_Pipelines\\PreProcess\\timefreq\\utils.py:210\u001B[0m, in \u001B[0;36m_COLA.feed\u001B[1;34m(self, verbose, *datas, **kwargs)\u001B[0m\n\u001B[0;32m    207\u001B[0m     \u001B[38;5;28;01mfor\u001B[39;00m offset \u001B[38;5;129;01min\u001B[39;00m \u001B[38;5;28mrange\u001B[39m(\u001B[38;5;28mself\u001B[39m\u001B[38;5;241m.\u001B[39m_n_samples \u001B[38;5;241m-\u001B[39m \u001B[38;5;28mself\u001B[39m\u001B[38;5;241m.\u001B[39m_step, \u001B[38;5;241m0\u001B[39m,\n\u001B[0;32m    208\u001B[0m                         \u001B[38;5;241m-\u001B[39m\u001B[38;5;28mself\u001B[39m\u001B[38;5;241m.\u001B[39m_step):\n\u001B[0;32m    209\u001B[0m         this_window[:offset] \u001B[38;5;241m+\u001B[39m\u001B[38;5;241m=\u001B[39m \u001B[38;5;28mself\u001B[39m\u001B[38;5;241m.\u001B[39m_window[\u001B[38;5;241m-\u001B[39moffset:]\n\u001B[1;32m--> 210\u001B[0m \u001B[43mlogger\u001B[49m\u001B[38;5;241;43m.\u001B[39;49m\u001B[43mdebug\u001B[49m\u001B[43m(\u001B[49m\u001B[38;5;124;43m'\u001B[39;49m\u001B[38;5;124;43m    * Processing \u001B[39;49m\u001B[38;5;132;43;01m%d\u001B[39;49;00m\u001B[38;5;124;43m->\u001B[39;49m\u001B[38;5;132;43;01m%d\u001B[39;49;00m\u001B[38;5;124;43m'\u001B[39;49m\u001B[43m \u001B[49m\u001B[38;5;241;43m%\u001B[39;49m\u001B[43m \u001B[49m\u001B[43m(\u001B[49m\u001B[43mstart\u001B[49m\u001B[43m,\u001B[49m\u001B[43m \u001B[49m\u001B[43mstop\u001B[49m\u001B[43m)\u001B[49m\u001B[43m)\u001B[49m\n\u001B[0;32m    211\u001B[0m this_proc \u001B[38;5;241m=\u001B[39m [in_[\u001B[38;5;241m.\u001B[39m\u001B[38;5;241m.\u001B[39m\u001B[38;5;241m.\u001B[39m, :this_len]\u001B[38;5;241m.\u001B[39mcopy()\n\u001B[0;32m    212\u001B[0m              \u001B[38;5;28;01mfor\u001B[39;00m in_ \u001B[38;5;129;01min\u001B[39;00m \u001B[38;5;28mself\u001B[39m\u001B[38;5;241m.\u001B[39m_in_buffers]\n\u001B[0;32m    213\u001B[0m \u001B[38;5;28;01mif\u001B[39;00m \u001B[38;5;129;01mnot\u001B[39;00m \u001B[38;5;28mall\u001B[39m(proc\u001B[38;5;241m.\u001B[39mshape[\u001B[38;5;241m-\u001B[39m\u001B[38;5;241m1\u001B[39m] \u001B[38;5;241m==\u001B[39m this_len \u001B[38;5;241m==\u001B[39m this_window\u001B[38;5;241m.\u001B[39msize\n\u001B[0;32m    214\u001B[0m            \u001B[38;5;28;01mfor\u001B[39;00m proc \u001B[38;5;129;01min\u001B[39;00m this_proc):\n",
      "File \u001B[1;32m~\\.conda\\envs\\preprocess\\lib\\logging\\__init__.py:1465\u001B[0m, in \u001B[0;36mLogger.debug\u001B[1;34m(self, msg, *args, **kwargs)\u001B[0m\n\u001B[0;32m   1456\u001B[0m \u001B[38;5;124;03m\"\"\"\u001B[39;00m\n\u001B[0;32m   1457\u001B[0m \u001B[38;5;124;03mLog 'msg % args' with severity 'DEBUG'.\u001B[39;00m\n\u001B[0;32m   1458\u001B[0m \n\u001B[1;32m   (...)\u001B[0m\n\u001B[0;32m   1462\u001B[0m \u001B[38;5;124;03mlogger.debug(\"Houston, we have a %s\", \"thorny problem\", exc_info=1)\u001B[39;00m\n\u001B[0;32m   1463\u001B[0m \u001B[38;5;124;03m\"\"\"\u001B[39;00m\n\u001B[0;32m   1464\u001B[0m \u001B[38;5;28;01mif\u001B[39;00m \u001B[38;5;28mself\u001B[39m\u001B[38;5;241m.\u001B[39misEnabledFor(DEBUG):\n\u001B[1;32m-> 1465\u001B[0m     \u001B[38;5;28mself\u001B[39m\u001B[38;5;241m.\u001B[39m_log(DEBUG, msg, args, \u001B[38;5;241m*\u001B[39m\u001B[38;5;241m*\u001B[39mkwargs)\n",
      "File \u001B[1;32m~\\.conda\\envs\\preprocess\\lib\\logging\\__init__.py:1624\u001B[0m, in \u001B[0;36mLogger._log\u001B[1;34m(self, level, msg, args, exc_info, extra, stack_info, stacklevel)\u001B[0m\n\u001B[0;32m   1621\u001B[0m         exc_info \u001B[38;5;241m=\u001B[39m sys\u001B[38;5;241m.\u001B[39mexc_info()\n\u001B[0;32m   1622\u001B[0m record \u001B[38;5;241m=\u001B[39m \u001B[38;5;28mself\u001B[39m\u001B[38;5;241m.\u001B[39mmakeRecord(\u001B[38;5;28mself\u001B[39m\u001B[38;5;241m.\u001B[39mname, level, fn, lno, msg, args,\n\u001B[0;32m   1623\u001B[0m                          exc_info, func, extra, sinfo)\n\u001B[1;32m-> 1624\u001B[0m \u001B[38;5;28;43mself\u001B[39;49m\u001B[38;5;241;43m.\u001B[39;49m\u001B[43mhandle\u001B[49m\u001B[43m(\u001B[49m\u001B[43mrecord\u001B[49m\u001B[43m)\u001B[49m\n",
      "File \u001B[1;32m~\\.conda\\envs\\preprocess\\lib\\logging\\__init__.py:1634\u001B[0m, in \u001B[0;36mLogger.handle\u001B[1;34m(self, record)\u001B[0m\n\u001B[0;32m   1627\u001B[0m \u001B[38;5;124;03m\"\"\"\u001B[39;00m\n\u001B[0;32m   1628\u001B[0m \u001B[38;5;124;03mCall the handlers for the specified record.\u001B[39;00m\n\u001B[0;32m   1629\u001B[0m \n\u001B[0;32m   1630\u001B[0m \u001B[38;5;124;03mThis method is used for unpickled records received from a socket, as\u001B[39;00m\n\u001B[0;32m   1631\u001B[0m \u001B[38;5;124;03mwell as those created locally. Logger-level filtering is applied.\u001B[39;00m\n\u001B[0;32m   1632\u001B[0m \u001B[38;5;124;03m\"\"\"\u001B[39;00m\n\u001B[0;32m   1633\u001B[0m \u001B[38;5;28;01mif\u001B[39;00m (\u001B[38;5;129;01mnot\u001B[39;00m \u001B[38;5;28mself\u001B[39m\u001B[38;5;241m.\u001B[39mdisabled) \u001B[38;5;129;01mand\u001B[39;00m \u001B[38;5;28mself\u001B[39m\u001B[38;5;241m.\u001B[39mfilter(record):\n\u001B[1;32m-> 1634\u001B[0m     \u001B[38;5;28;43mself\u001B[39;49m\u001B[38;5;241;43m.\u001B[39;49m\u001B[43mcallHandlers\u001B[49m\u001B[43m(\u001B[49m\u001B[43mrecord\u001B[49m\u001B[43m)\u001B[49m\n",
      "File \u001B[1;32m~\\.conda\\envs\\preprocess\\lib\\logging\\__init__.py:1696\u001B[0m, in \u001B[0;36mLogger.callHandlers\u001B[1;34m(self, record)\u001B[0m\n\u001B[0;32m   1694\u001B[0m     found \u001B[38;5;241m=\u001B[39m found \u001B[38;5;241m+\u001B[39m \u001B[38;5;241m1\u001B[39m\n\u001B[0;32m   1695\u001B[0m     \u001B[38;5;28;01mif\u001B[39;00m record\u001B[38;5;241m.\u001B[39mlevelno \u001B[38;5;241m>\u001B[39m\u001B[38;5;241m=\u001B[39m hdlr\u001B[38;5;241m.\u001B[39mlevel:\n\u001B[1;32m-> 1696\u001B[0m         \u001B[43mhdlr\u001B[49m\u001B[38;5;241;43m.\u001B[39;49m\u001B[43mhandle\u001B[49m\u001B[43m(\u001B[49m\u001B[43mrecord\u001B[49m\u001B[43m)\u001B[49m\n\u001B[0;32m   1697\u001B[0m \u001B[38;5;28;01mif\u001B[39;00m \u001B[38;5;129;01mnot\u001B[39;00m c\u001B[38;5;241m.\u001B[39mpropagate:\n\u001B[0;32m   1698\u001B[0m     c \u001B[38;5;241m=\u001B[39m \u001B[38;5;28;01mNone\u001B[39;00m    \u001B[38;5;66;03m#break out\u001B[39;00m\n",
      "File \u001B[1;32m~\\.conda\\envs\\preprocess\\lib\\logging\\__init__.py:968\u001B[0m, in \u001B[0;36mHandler.handle\u001B[1;34m(self, record)\u001B[0m\n\u001B[0;32m    966\u001B[0m \u001B[38;5;28mself\u001B[39m\u001B[38;5;241m.\u001B[39macquire()\n\u001B[0;32m    967\u001B[0m \u001B[38;5;28;01mtry\u001B[39;00m:\n\u001B[1;32m--> 968\u001B[0m     \u001B[38;5;28;43mself\u001B[39;49m\u001B[38;5;241;43m.\u001B[39;49m\u001B[43memit\u001B[49m\u001B[43m(\u001B[49m\u001B[43mrecord\u001B[49m\u001B[43m)\u001B[49m\n\u001B[0;32m    969\u001B[0m \u001B[38;5;28;01mfinally\u001B[39;00m:\n\u001B[0;32m    970\u001B[0m     \u001B[38;5;28mself\u001B[39m\u001B[38;5;241m.\u001B[39mrelease()\n",
      "File \u001B[1;32m~\\.conda\\envs\\preprocess\\lib\\logging\\__init__.py:1218\u001B[0m, in \u001B[0;36mFileHandler.emit\u001B[1;34m(self, record)\u001B[0m\n\u001B[0;32m   1216\u001B[0m         \u001B[38;5;28mself\u001B[39m\u001B[38;5;241m.\u001B[39mstream \u001B[38;5;241m=\u001B[39m \u001B[38;5;28mself\u001B[39m\u001B[38;5;241m.\u001B[39m_open()\n\u001B[0;32m   1217\u001B[0m \u001B[38;5;28;01mif\u001B[39;00m \u001B[38;5;28mself\u001B[39m\u001B[38;5;241m.\u001B[39mstream:\n\u001B[1;32m-> 1218\u001B[0m     \u001B[43mStreamHandler\u001B[49m\u001B[38;5;241;43m.\u001B[39;49m\u001B[43memit\u001B[49m\u001B[43m(\u001B[49m\u001B[38;5;28;43mself\u001B[39;49m\u001B[43m,\u001B[49m\u001B[43m \u001B[49m\u001B[43mrecord\u001B[49m\u001B[43m)\u001B[49m\n",
      "File \u001B[1;32m~\\.conda\\envs\\preprocess\\lib\\logging\\__init__.py:1104\u001B[0m, in \u001B[0;36mStreamHandler.emit\u001B[1;34m(self, record)\u001B[0m\n\u001B[0;32m   1102\u001B[0m     \u001B[38;5;66;03m# issue 35046: merged two stream.writes into one.\u001B[39;00m\n\u001B[0;32m   1103\u001B[0m     stream\u001B[38;5;241m.\u001B[39mwrite(msg \u001B[38;5;241m+\u001B[39m \u001B[38;5;28mself\u001B[39m\u001B[38;5;241m.\u001B[39mterminator)\n\u001B[1;32m-> 1104\u001B[0m     \u001B[38;5;28;43mself\u001B[39;49m\u001B[38;5;241;43m.\u001B[39;49m\u001B[43mflush\u001B[49m\u001B[43m(\u001B[49m\u001B[43m)\u001B[49m\n\u001B[0;32m   1105\u001B[0m \u001B[38;5;28;01mexcept\u001B[39;00m \u001B[38;5;167;01mRecursionError\u001B[39;00m:  \u001B[38;5;66;03m# See issue 36272\u001B[39;00m\n\u001B[0;32m   1106\u001B[0m     \u001B[38;5;28;01mraise\u001B[39;00m\n",
      "File \u001B[1;32m~\\.conda\\envs\\preprocess\\lib\\logging\\__init__.py:1084\u001B[0m, in \u001B[0;36mStreamHandler.flush\u001B[1;34m(self)\u001B[0m\n\u001B[0;32m   1082\u001B[0m \u001B[38;5;28;01mtry\u001B[39;00m:\n\u001B[0;32m   1083\u001B[0m     \u001B[38;5;28;01mif\u001B[39;00m \u001B[38;5;28mself\u001B[39m\u001B[38;5;241m.\u001B[39mstream \u001B[38;5;129;01mand\u001B[39;00m \u001B[38;5;28mhasattr\u001B[39m(\u001B[38;5;28mself\u001B[39m\u001B[38;5;241m.\u001B[39mstream, \u001B[38;5;124m\"\u001B[39m\u001B[38;5;124mflush\u001B[39m\u001B[38;5;124m\"\u001B[39m):\n\u001B[1;32m-> 1084\u001B[0m         \u001B[38;5;28;43mself\u001B[39;49m\u001B[38;5;241;43m.\u001B[39;49m\u001B[43mstream\u001B[49m\u001B[38;5;241;43m.\u001B[39;49m\u001B[43mflush\u001B[49m\u001B[43m(\u001B[49m\u001B[43m)\u001B[49m\n\u001B[0;32m   1085\u001B[0m \u001B[38;5;28;01mfinally\u001B[39;00m:\n\u001B[0;32m   1086\u001B[0m     \u001B[38;5;28mself\u001B[39m\u001B[38;5;241m.\u001B[39mrelease()\n",
      "\u001B[1;31mKeyboardInterrupt\u001B[0m: "
     ]
    }
   ],
   "source": [
    "# %% Filter the data\n",
    "# raw.drop_channels(raw.ch_names[10:158])\n",
    "# raw_dat.drop_channels(raw_dat.ch_names[10:158])\n",
    "# dat.drop_channels(dat.ch_names[10:158])\n",
    "# filt = mne.io.read_raw_fif(layout.root + \"/derivatives/sub-D00\" + str(\n",
    "#         sub_num) + \"_\" + TASK + \"_filt_ieeg.fif\")\n",
    "filt = line_filter(raw, mt_bandwidth=10.0, n_jobs=-1,\n",
    "                    filter_length='700ms', verbose=10,\n",
    "                    freqs=[60], notch_widths=20)\n",
    "filt2 = line_filter(filt, mt_bandwidth=10.0, n_jobs=-1,\n",
    "                filter_length='20s', verbose=10,\n",
    "                freqs=[120, 180, 240], notch_widths=20)\n"
   ]
  },
  {
   "cell_type": "code",
   "execution_count": null,
   "metadata": {},
   "outputs": [],
   "source": [
    "data = [raw, filt, filt2, raw_dat, dat]\n",
    "figure_compare(data, [\"BIDS Un\", \"BIDS 700ms \", \"BIDS 20s+700ms \", \"Un\",\n",
    "                    \"\"], avg=True, verbose=10, proj=True, fmax=250)\n",
    "figure_compare(data, [\"BIDS Un\", \"BIDS 700ms \", \"BIDS 20s+700ms \", \"Un\",\n",
    "                    \"\"], avg=False, verbose=10, proj=True, fmax=250)"
   ]
  },
  {
   "cell_type": "code",
   "execution_count": 5,
   "metadata": {},
   "outputs": [],
   "source": [
    "# load the data\n",
    "filt = mne.io.read_raw_fif(layout.root + \"/derivatives/sub-D00\" + str(29) + \"_\" + \"SentenceRep\" + \"_filt_ieeg.fif\")"
   ]
  },
  {
   "cell_type": "code",
   "execution_count": 6,
   "metadata": {},
   "outputs": [],
   "source": [
    "# Crop raw data to minimize processing time\n",
    "new = crop_data(filt)\n",
    "\n",
    "# Mark channel outliers as bad\n",
    "channel_outlier_marker(new)\n",
    "\n",
    "# Exclude bad channels\n",
    "good = new.copy().drop_channels(new.info['bads'])\n",
    "good.load_data()\n",
    "\n",
    "# CAR\n",
    "good.set_eeg_reference(ref_channels=\"average\", ch_type='seeg')\n",
    "\n",
    "# Remove intermediates from mem\n",
    "del new"
   ]
  },
  {
   "cell_type": "code",
   "execution_count": 7,
   "metadata": {},
   "outputs": [
    {
     "ename": "TypeError",
     "evalue": "Event names must be an instance of str or None, got <class 'int'> instead.",
     "output_type": "error",
     "traceback": [
      "\u001B[1;31m---------------------------------------------------------------------------\u001B[0m",
      "\u001B[1;31mTypeError\u001B[0m                                 Traceback (most recent call last)",
      "Cell \u001B[1;32mIn[7], line 25\u001B[0m\n\u001B[0;32m     23\u001B[0m events \u001B[38;5;241m=\u001B[39m mne\u001B[38;5;241m.\u001B[39mmerge_events(events, [\u001B[38;5;241m1\u001B[39m, \u001B[38;5;241m2\u001B[39m], \u001B[38;5;241m14\u001B[39m, replace_events\u001B[38;5;241m=\u001B[39m\u001B[38;5;28;01mFalse\u001B[39;00m)\n\u001B[0;32m     24\u001B[0m event_id[\u001B[38;5;124m'\u001B[39m\u001B[38;5;124mStart\u001B[39m\u001B[38;5;124m'\u001B[39m] \u001B[38;5;241m=\u001B[39m \u001B[38;5;241m14\u001B[39m\n\u001B[1;32m---> 25\u001B[0m good\u001B[38;5;241m.\u001B[39mset_annotations(\u001B[43mmne\u001B[49m\u001B[38;5;241;43m.\u001B[39;49m\u001B[43mannotations_from_events\u001B[49m\u001B[43m(\u001B[49m\u001B[43mevents\u001B[49m\u001B[43m,\u001B[49m\u001B[43m \u001B[49m\u001B[43mgood\u001B[49m\u001B[38;5;241;43m.\u001B[39;49m\u001B[43minfo\u001B[49m\u001B[43m[\u001B[49m\u001B[38;5;124;43m'\u001B[39;49m\u001B[38;5;124;43msfreq\u001B[39;49m\u001B[38;5;124;43m'\u001B[39;49m\u001B[43m]\u001B[49m\u001B[43m,\u001B[49m\u001B[43m \u001B[49m\u001B[43mevent_id\u001B[49m\u001B[43m)\u001B[49m)\n",
      "File \u001B[1;32m<decorator-gen-136>:12\u001B[0m, in \u001B[0;36mannotations_from_events\u001B[1;34m(events, sfreq, event_desc, first_samp, orig_time, verbose)\u001B[0m\n",
      "File \u001B[1;32m~\\.conda\\envs\\preprocess\\lib\\site-packages\\mne\\annotations.py:1569\u001B[0m, in \u001B[0;36mannotations_from_events\u001B[1;34m(events, sfreq, event_desc, first_samp, orig_time, verbose)\u001B[0m\n\u001B[0;32m   1517\u001B[0m \u001B[38;5;129m@verbose\u001B[39m\n\u001B[0;32m   1518\u001B[0m \u001B[38;5;28;01mdef\u001B[39;00m \u001B[38;5;21mannotations_from_events\u001B[39m(events, sfreq, event_desc\u001B[38;5;241m=\u001B[39m\u001B[38;5;28;01mNone\u001B[39;00m, first_samp\u001B[38;5;241m=\u001B[39m\u001B[38;5;241m0\u001B[39m,\n\u001B[0;32m   1519\u001B[0m                             orig_time\u001B[38;5;241m=\u001B[39m\u001B[38;5;28;01mNone\u001B[39;00m, verbose\u001B[38;5;241m=\u001B[39m\u001B[38;5;28;01mNone\u001B[39;00m):\n\u001B[0;32m   1520\u001B[0m     \u001B[38;5;124;03m\"\"\"Convert an event array to an Annotations object.\u001B[39;00m\n\u001B[0;32m   1521\u001B[0m \n\u001B[0;32m   1522\u001B[0m \u001B[38;5;124;03m    Parameters\u001B[39;00m\n\u001B[1;32m   (...)\u001B[0m\n\u001B[0;32m   1567\u001B[0m \u001B[38;5;124;03m        event_desc = {v: k for k, v in event_id.items()}\u001B[39;00m\n\u001B[0;32m   1568\u001B[0m \u001B[38;5;124;03m    \"\"\"\u001B[39;00m\n\u001B[1;32m-> 1569\u001B[0m     event_desc \u001B[38;5;241m=\u001B[39m \u001B[43m_check_event_description\u001B[49m\u001B[43m(\u001B[49m\u001B[43mevent_desc\u001B[49m\u001B[43m,\u001B[49m\u001B[43m \u001B[49m\u001B[43mevents\u001B[49m\u001B[43m)\u001B[49m\n\u001B[0;32m   1570\u001B[0m     event_sel, event_desc_ \u001B[38;5;241m=\u001B[39m _select_events_based_on_id(events, event_desc)\n\u001B[0;32m   1571\u001B[0m     events_sel \u001B[38;5;241m=\u001B[39m events[event_sel]\n",
      "File \u001B[1;32m~\\.conda\\envs\\preprocess\\lib\\site-packages\\mne\\annotations.py:1389\u001B[0m, in \u001B[0;36m_check_event_description\u001B[1;34m(event_desc, events)\u001B[0m\n\u001B[0;32m   1387\u001B[0m \u001B[38;5;28;01mif\u001B[39;00m \u001B[38;5;28misinstance\u001B[39m(event_desc, \u001B[38;5;28mdict\u001B[39m):\n\u001B[0;32m   1388\u001B[0m     \u001B[38;5;28;01mfor\u001B[39;00m val \u001B[38;5;129;01min\u001B[39;00m event_desc\u001B[38;5;241m.\u001B[39mvalues():\n\u001B[1;32m-> 1389\u001B[0m         \u001B[43m_validate_type\u001B[49m\u001B[43m(\u001B[49m\u001B[43mval\u001B[49m\u001B[43m,\u001B[49m\u001B[43m \u001B[49m\u001B[43m(\u001B[49m\u001B[38;5;28;43mstr\u001B[39;49m\u001B[43m,\u001B[49m\u001B[43m \u001B[49m\u001B[38;5;28;43;01mNone\u001B[39;49;00m\u001B[43m)\u001B[49m\u001B[43m,\u001B[49m\u001B[43m \u001B[49m\u001B[38;5;124;43m'\u001B[39;49m\u001B[38;5;124;43mEvent names\u001B[39;49m\u001B[38;5;124;43m'\u001B[39;49m\u001B[43m)\u001B[49m\n\u001B[0;32m   1390\u001B[0m \u001B[38;5;28;01melif\u001B[39;00m \u001B[38;5;28misinstance\u001B[39m(event_desc, Iterable):\n\u001B[0;32m   1391\u001B[0m     event_desc \u001B[38;5;241m=\u001B[39m np\u001B[38;5;241m.\u001B[39masarray(event_desc)\n",
      "File \u001B[1;32m~\\.conda\\envs\\preprocess\\lib\\site-packages\\mne\\utils\\check.py:543\u001B[0m, in \u001B[0;36m_validate_type\u001B[1;34m(item, types, item_name, type_name, extra)\u001B[0m\n\u001B[0;32m    541\u001B[0m         type_name \u001B[38;5;241m=\u001B[39m \u001B[38;5;124m'\u001B[39m\u001B[38;5;124m, \u001B[39m\u001B[38;5;124m'\u001B[39m\u001B[38;5;241m.\u001B[39mjoin(type_name)\n\u001B[0;32m    542\u001B[0m _item_name \u001B[38;5;241m=\u001B[39m \u001B[38;5;124m'\u001B[39m\u001B[38;5;124mItem\u001B[39m\u001B[38;5;124m'\u001B[39m \u001B[38;5;28;01mif\u001B[39;00m item_name \u001B[38;5;129;01mis\u001B[39;00m \u001B[38;5;28;01mNone\u001B[39;00m \u001B[38;5;28;01melse\u001B[39;00m item_name\n\u001B[1;32m--> 543\u001B[0m \u001B[38;5;28;01mraise\u001B[39;00m \u001B[38;5;167;01mTypeError\u001B[39;00m(\n\u001B[0;32m    544\u001B[0m     \u001B[38;5;124mf\u001B[39m\u001B[38;5;124m\"\u001B[39m\u001B[38;5;132;01m{\u001B[39;00m_item_name\u001B[38;5;132;01m}\u001B[39;00m\u001B[38;5;124m must be an instance of \u001B[39m\u001B[38;5;132;01m{\u001B[39;00mtype_name\u001B[38;5;132;01m}\u001B[39;00m\u001B[38;5;132;01m{\u001B[39;00mextra\u001B[38;5;132;01m}\u001B[39;00m\u001B[38;5;124m, \u001B[39m\u001B[38;5;124m\"\u001B[39m\n\u001B[0;32m    545\u001B[0m     \u001B[38;5;124mf\u001B[39m\u001B[38;5;124m\"\u001B[39m\u001B[38;5;124mgot \u001B[39m\u001B[38;5;132;01m{\u001B[39;00m\u001B[38;5;28mtype\u001B[39m(item)\u001B[38;5;132;01m}\u001B[39;00m\u001B[38;5;124m instead.\u001B[39m\u001B[38;5;124m\"\u001B[39m)\n",
      "\u001B[1;31mTypeError\u001B[0m: Event names must be an instance of str or None, got <class 'int'> instead."
     ]
    }
   ],
   "source": [
    "# fix SentenceRep events\n",
    "is_sent = False\n",
    "annot = None\n",
    "for event in good.annotations:\n",
    "    if event['description'] in ['Audio']:\n",
    "        if event['duration'] > 1:\n",
    "            is_sent = True\n",
    "        else:\n",
    "            is_sent = False\n",
    "    if event['description'] not in [ 'Listen', ':=:' ]:\n",
    "        if is_sent:\n",
    "            trial_type = \"Sentence/\"\n",
    "        else:\n",
    "            trial_type = \"Word/\"\n",
    "        event['description'] = trial_type + event['description']\n",
    "    if annot is None:\n",
    "        annot = mne.Annotations(**event)\n",
    "    else:\n",
    "        event.pop('orig_time')\n",
    "        annot.append(**event)\n",
    "good.set_annotations(annot)\n",
    "events, event_id = mne.events_from_annotations(good)\n",
    "events = mne.merge_events(events, [1, 2], 14, replace_events=False)\n",
    "event_id['Start'] = 14\n",
    "good.set_annotations(mne.annotations_from_events(events, good.info['sfreq'], event_id))"
   ]
  }
 ],
 "metadata": {
  "kernelspec": {
   "display_name": "Python 3 (ipykernel)",
   "language": "python",
   "name": "python3"
  },
  "language_info": {
   "codemirror_mode": {
    "name": "ipython",
    "version": 3
   },
   "file_extension": ".py",
   "mimetype": "text/x-python",
   "name": "python",
   "nbconvert_exporter": "python",
   "pygments_lexer": "ipython3",
   "version": "3.10.8"
  },
  "vscode": {
   "interpreter": {
    "hash": "270eae68e6d6ea83cfb0501106a6a2e9a0417c2484665f1204c45aa995e22a8a"
   }
  }
 },
 "nbformat": 4,
 "nbformat_minor": 2
}
