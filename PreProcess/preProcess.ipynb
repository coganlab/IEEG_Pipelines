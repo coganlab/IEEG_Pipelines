{
 "cells": [
  {
   "cell_type": "code",
   "execution_count": 1,
   "metadata": {},
   "outputs": [],
   "source": [
    "from navigate import get_data, open_dat_file\n",
    "from utils.plotting import figure_compare\n",
    "from mt_filter import line_filter\n",
    "import os.path as op\n",
    "import numpy as np\n",
    "import mne\n",
    "import matplotlib\n",
    "\n",
    "# %% Set up logging\n",
    "mne.set_log_file(\"output.log\",\n",
    "                \"%(levelname)s: %(message)s - %(asctime)s\",\n",
    "                overwrite=True)\n",
    "mne.set_log_level(\"INFO\")"
   ]
  },
  {
   "cell_type": "code",
   "execution_count": 3,
   "metadata": {},
   "outputs": [
    {
     "name": "stderr",
     "output_type": "stream",
     "text": [
      "C:\\Users\\ae166\\git\\IEEG_Pipelines\\PreProcess\\navigate.py:82: RuntimeWarning: The unit for channel(s) Trigger has changed from V to NA.\n",
      "  new_raw = read_raw_bids(bids_path=BIDS_path)\n",
      "C:\\Users\\ae166\\git\\IEEG_Pipelines\\PreProcess\\navigate.py:82: RuntimeWarning: participants.tsv file not found for C:\\Users\\ae166\\Box\\CoganLab\\BIDS-1.0_SentenceRep\\BIDS\\sub-D0029\\ieeg\\sub-D0029_task-SentenceRep_acq-01_run-01_ieeg.edf\n",
      "  new_raw = read_raw_bids(bids_path=BIDS_path)\n",
      "C:\\Users\\ae166\\git\\IEEG_Pipelines\\PreProcess\\navigate.py:82: RuntimeWarning: The unit for channel(s) Trigger has changed from V to NA.\n",
      "  new_raw = read_raw_bids(bids_path=BIDS_path)\n",
      "C:\\Users\\ae166\\git\\IEEG_Pipelines\\PreProcess\\navigate.py:82: RuntimeWarning: participants.tsv file not found for C:\\Users\\ae166\\Box\\CoganLab\\BIDS-1.0_SentenceRep\\BIDS\\sub-D0029\\ieeg\\sub-D0029_task-SentenceRep_acq-01_run-02_ieeg.edf\n",
      "  new_raw = read_raw_bids(bids_path=BIDS_path)\n",
      "C:\\Users\\ae166\\git\\IEEG_Pipelines\\PreProcess\\navigate.py:82: RuntimeWarning: The unit for channel(s) Trigger has changed from V to NA.\n",
      "  new_raw = read_raw_bids(bids_path=BIDS_path)\n",
      "C:\\Users\\ae166\\git\\IEEG_Pipelines\\PreProcess\\navigate.py:82: RuntimeWarning: participants.tsv file not found for C:\\Users\\ae166\\Box\\CoganLab\\BIDS-1.0_SentenceRep\\BIDS\\sub-D0029\\ieeg\\sub-D0029_task-SentenceRep_acq-01_run-03_ieeg.edf\n",
      "  new_raw = read_raw_bids(bids_path=BIDS_path)\n",
      "C:\\Users\\ae166\\git\\IEEG_Pipelines\\PreProcess\\navigate.py:82: RuntimeWarning: The unit for channel(s) Trigger has changed from V to NA.\n",
      "  new_raw = read_raw_bids(bids_path=BIDS_path)\n",
      "C:\\Users\\ae166\\git\\IEEG_Pipelines\\PreProcess\\navigate.py:82: RuntimeWarning: participants.tsv file not found for C:\\Users\\ae166\\Box\\CoganLab\\BIDS-1.0_SentenceRep\\BIDS\\sub-D0029\\ieeg\\sub-D0029_task-SentenceRep_acq-01_run-04_ieeg.edf\n",
      "  new_raw = read_raw_bids(bids_path=BIDS_path)\n",
      "C:\\Users\\ae166\\git\\IEEG_Pipelines\\PreProcess\\navigate.py:82: RuntimeWarning: The unit for channel(s) Trigger has changed from V to NA.\n",
      "  new_raw = read_raw_bids(bids_path=BIDS_path)\n",
      "C:\\Users\\ae166\\git\\IEEG_Pipelines\\PreProcess\\navigate.py:82: RuntimeWarning: participants.tsv file not found for C:\\Users\\ae166\\Box\\CoganLab\\BIDS-1.0_SentenceRep\\BIDS\\sub-D0029\\ieeg\\sub-D0029_task-SentenceRep_acq-01_run-05_ieeg.edf\n",
      "  new_raw = read_raw_bids(bids_path=BIDS_path)\n"
     ]
    }
   ],
   "source": [
    "# %% Load the data\n",
    "TASK = \"SentenceRep\"\n",
    "sub_num = 29\n",
    "HOME = op.expanduser(\"~\")\n",
    "LAB_root = op.join(HOME, \"Box\", \"CoganLab\")\n",
    "layout, raw, D_dat_raw, D_dat_filt = get_data(29, \"SentenceRep\", lab_root=LAB_root)\n",
    "raw_dat = open_dat_file(D_dat_raw, raw.copy().ch_names)\n",
    "dat = open_dat_file(D_dat_filt, raw.copy().ch_names)"
   ]
  },
  {
   "cell_type": "code",
   "execution_count": 10,
   "metadata": {},
   "outputs": [
    {
     "name": "stderr",
     "output_type": "stream",
     "text": [
      "[Parallel(n_jobs=8)]: Using backend LokyBackend with 8 concurrent workers.\n",
      "[Parallel(n_jobs=8)]: Done  10 tasks      | elapsed:  1.2min\n"
     ]
    },
    {
     "ename": "KeyboardInterrupt",
     "evalue": "",
     "output_type": "error",
     "traceback": [
      "\u001B[1;31m---------------------------------------------------------------------------\u001B[0m",
      "\u001B[1;31mKeyboardInterrupt\u001B[0m                         Traceback (most recent call last)",
      "Cell \u001B[1;32mIn[10], line 5\u001B[0m\n\u001B[0;32m      1\u001B[0m \u001B[38;5;66;03m# %% Filter the data\u001B[39;00m\n\u001B[0;32m      2\u001B[0m \u001B[38;5;66;03m# raw.drop_channels(raw.ch_names[10:158])\u001B[39;00m\n\u001B[0;32m      3\u001B[0m \u001B[38;5;66;03m# raw_dat.drop_channels(raw_dat.ch_names[10:158])\u001B[39;00m\n\u001B[0;32m      4\u001B[0m \u001B[38;5;66;03m# dat.drop_channels(dat.ch_names[10:158])\u001B[39;00m\n\u001B[1;32m----> 5\u001B[0m filt \u001B[38;5;241m=\u001B[39m \u001B[43mraw\u001B[49m\u001B[38;5;241;43m.\u001B[39;49m\u001B[43mnotch_filter\u001B[49m\u001B[43m(\u001B[49m\u001B[43mfreqs\u001B[49m\u001B[38;5;241;43m=\u001B[39;49m\u001B[43m[\u001B[49m\u001B[38;5;241;43m60\u001B[39;49m\u001B[43m]\u001B[49m\u001B[43m,\u001B[49m\u001B[43m \u001B[49m\u001B[43mnotch_widths\u001B[49m\u001B[38;5;241;43m=\u001B[39;49m\u001B[38;5;241;43m2\u001B[39;49m\u001B[43m,\u001B[49m\u001B[43m \u001B[49m\u001B[43mmethod\u001B[49m\u001B[38;5;241;43m=\u001B[39;49m\u001B[38;5;124;43m'\u001B[39;49m\u001B[38;5;124;43mspectrum_fit\u001B[39;49m\u001B[38;5;124;43m'\u001B[39;49m\u001B[43m,\u001B[49m\u001B[43m \u001B[49m\u001B[43mn_jobs\u001B[49m\u001B[38;5;241;43m=\u001B[39;49m\u001B[38;5;241;43m8\u001B[39;49m\u001B[43m,\u001B[49m\u001B[43m \u001B[49m\u001B[43mmt_bandwidth\u001B[49m\u001B[38;5;241;43m=\u001B[39;49m\u001B[38;5;241;43m2\u001B[39;49m\u001B[43m)\u001B[49m\n",
      "File \u001B[1;32m<decorator-gen-231>:12\u001B[0m, in \u001B[0;36mnotch_filter\u001B[1;34m(self, freqs, picks, filter_length, notch_widths, trans_bandwidth, n_jobs, method, iir_params, mt_bandwidth, p_value, phase, fir_window, fir_design, pad, verbose)\u001B[0m\n",
      "File \u001B[1;32m~\\.conda\\envs\\preprocess\\lib\\site-packages\\mne\\io\\base.py:1055\u001B[0m, in \u001B[0;36mBaseRaw.notch_filter\u001B[1;34m(self, freqs, picks, filter_length, notch_widths, trans_bandwidth, n_jobs, method, iir_params, mt_bandwidth, p_value, phase, fir_window, fir_design, pad, verbose)\u001B[0m\n\u001B[0;32m   1053\u001B[0m picks \u001B[38;5;241m=\u001B[39m _picks_to_idx(\u001B[38;5;28mself\u001B[39m\u001B[38;5;241m.\u001B[39minfo, picks, exclude\u001B[38;5;241m=\u001B[39m(), none\u001B[38;5;241m=\u001B[39m\u001B[38;5;124m'\u001B[39m\u001B[38;5;124mdata_or_ica\u001B[39m\u001B[38;5;124m'\u001B[39m)\n\u001B[0;32m   1054\u001B[0m _check_preload(\u001B[38;5;28mself\u001B[39m, \u001B[38;5;124m'\u001B[39m\u001B[38;5;124mraw.notch_filter\u001B[39m\u001B[38;5;124m'\u001B[39m)\n\u001B[1;32m-> 1055\u001B[0m \u001B[38;5;28mself\u001B[39m\u001B[38;5;241m.\u001B[39m_data \u001B[38;5;241m=\u001B[39m \u001B[43mnotch_filter\u001B[49m\u001B[43m(\u001B[49m\n\u001B[0;32m   1056\u001B[0m \u001B[43m    \u001B[49m\u001B[38;5;28;43mself\u001B[39;49m\u001B[38;5;241;43m.\u001B[39;49m\u001B[43m_data\u001B[49m\u001B[43m,\u001B[49m\u001B[43m \u001B[49m\u001B[43mfs\u001B[49m\u001B[43m,\u001B[49m\u001B[43m \u001B[49m\u001B[43mfreqs\u001B[49m\u001B[43m,\u001B[49m\u001B[43m \u001B[49m\u001B[43mfilter_length\u001B[49m\u001B[38;5;241;43m=\u001B[39;49m\u001B[43mfilter_length\u001B[49m\u001B[43m,\u001B[49m\n\u001B[0;32m   1057\u001B[0m \u001B[43m    \u001B[49m\u001B[43mnotch_widths\u001B[49m\u001B[38;5;241;43m=\u001B[39;49m\u001B[43mnotch_widths\u001B[49m\u001B[43m,\u001B[49m\u001B[43m \u001B[49m\u001B[43mtrans_bandwidth\u001B[49m\u001B[38;5;241;43m=\u001B[39;49m\u001B[43mtrans_bandwidth\u001B[49m\u001B[43m,\u001B[49m\n\u001B[0;32m   1058\u001B[0m \u001B[43m    \u001B[49m\u001B[43mmethod\u001B[49m\u001B[38;5;241;43m=\u001B[39;49m\u001B[43mmethod\u001B[49m\u001B[43m,\u001B[49m\u001B[43m \u001B[49m\u001B[43miir_params\u001B[49m\u001B[38;5;241;43m=\u001B[39;49m\u001B[43miir_params\u001B[49m\u001B[43m,\u001B[49m\u001B[43m \u001B[49m\u001B[43mmt_bandwidth\u001B[49m\u001B[38;5;241;43m=\u001B[39;49m\u001B[43mmt_bandwidth\u001B[49m\u001B[43m,\u001B[49m\n\u001B[0;32m   1059\u001B[0m \u001B[43m    \u001B[49m\u001B[43mp_value\u001B[49m\u001B[38;5;241;43m=\u001B[39;49m\u001B[43mp_value\u001B[49m\u001B[43m,\u001B[49m\u001B[43m \u001B[49m\u001B[43mpicks\u001B[49m\u001B[38;5;241;43m=\u001B[39;49m\u001B[43mpicks\u001B[49m\u001B[43m,\u001B[49m\u001B[43m \u001B[49m\u001B[43mn_jobs\u001B[49m\u001B[38;5;241;43m=\u001B[39;49m\u001B[43mn_jobs\u001B[49m\u001B[43m,\u001B[49m\u001B[43m \u001B[49m\u001B[43mcopy\u001B[49m\u001B[38;5;241;43m=\u001B[39;49m\u001B[38;5;28;43;01mFalse\u001B[39;49;00m\u001B[43m,\u001B[49m\n\u001B[0;32m   1060\u001B[0m \u001B[43m    \u001B[49m\u001B[43mphase\u001B[49m\u001B[38;5;241;43m=\u001B[39;49m\u001B[43mphase\u001B[49m\u001B[43m,\u001B[49m\u001B[43m \u001B[49m\u001B[43mfir_window\u001B[49m\u001B[38;5;241;43m=\u001B[39;49m\u001B[43mfir_window\u001B[49m\u001B[43m,\u001B[49m\u001B[43m \u001B[49m\u001B[43mfir_design\u001B[49m\u001B[38;5;241;43m=\u001B[39;49m\u001B[43mfir_design\u001B[49m\u001B[43m,\u001B[49m\n\u001B[0;32m   1061\u001B[0m \u001B[43m    \u001B[49m\u001B[43mpad\u001B[49m\u001B[38;5;241;43m=\u001B[39;49m\u001B[43mpad\u001B[49m\u001B[43m)\u001B[49m\n\u001B[0;32m   1062\u001B[0m \u001B[38;5;28;01mreturn\u001B[39;00m \u001B[38;5;28mself\u001B[39m\n",
      "File \u001B[1;32m<decorator-gen-144>:12\u001B[0m, in \u001B[0;36mnotch_filter\u001B[1;34m(x, Fs, freqs, filter_length, notch_widths, trans_bandwidth, method, iir_params, mt_bandwidth, p_value, picks, n_jobs, copy, phase, fir_window, fir_design, pad, verbose)\u001B[0m\n",
      "File \u001B[1;32m~\\.conda\\envs\\preprocess\\lib\\site-packages\\mne\\filter.py:1191\u001B[0m, in \u001B[0;36mnotch_filter\u001B[1;34m(x, Fs, freqs, filter_length, notch_widths, trans_bandwidth, method, iir_params, mt_bandwidth, p_value, picks, n_jobs, copy, phase, fir_window, fir_design, pad, verbose)\u001B[0m\n\u001B[0;32m   1187\u001B[0m     xf \u001B[38;5;241m=\u001B[39m filter_data(x, Fs, highs, lows, picks, filter_length, tb_2, tb_2,\n\u001B[0;32m   1188\u001B[0m                      n_jobs, method, iir_params, copy, phase, fir_window,\n\u001B[0;32m   1189\u001B[0m                      fir_design, pad\u001B[38;5;241m=\u001B[39mpad)\n\u001B[0;32m   1190\u001B[0m \u001B[38;5;28;01melif\u001B[39;00m method \u001B[38;5;241m==\u001B[39m \u001B[38;5;124m'\u001B[39m\u001B[38;5;124mspectrum_fit\u001B[39m\u001B[38;5;124m'\u001B[39m:\n\u001B[1;32m-> 1191\u001B[0m     xf \u001B[38;5;241m=\u001B[39m \u001B[43m_mt_spectrum_proc\u001B[49m\u001B[43m(\u001B[49m\u001B[43mx\u001B[49m\u001B[43m,\u001B[49m\u001B[43m \u001B[49m\u001B[43mFs\u001B[49m\u001B[43m,\u001B[49m\u001B[43m \u001B[49m\u001B[43mfreqs\u001B[49m\u001B[43m,\u001B[49m\u001B[43m \u001B[49m\u001B[43mnotch_widths\u001B[49m\u001B[43m,\u001B[49m\u001B[43m \u001B[49m\u001B[43mmt_bandwidth\u001B[49m\u001B[43m,\u001B[49m\n\u001B[0;32m   1192\u001B[0m \u001B[43m                           \u001B[49m\u001B[43mp_value\u001B[49m\u001B[43m,\u001B[49m\u001B[43m \u001B[49m\u001B[43mpicks\u001B[49m\u001B[43m,\u001B[49m\u001B[43m \u001B[49m\u001B[43mn_jobs\u001B[49m\u001B[43m,\u001B[49m\u001B[43m \u001B[49m\u001B[43mcopy\u001B[49m\u001B[43m,\u001B[49m\u001B[43m \u001B[49m\u001B[43mfilter_length\u001B[49m\u001B[43m)\u001B[49m\n\u001B[0;32m   1194\u001B[0m \u001B[38;5;28;01mreturn\u001B[39;00m xf\n",
      "File \u001B[1;32m~\\.conda\\envs\\preprocess\\lib\\site-packages\\mne\\filter.py:1242\u001B[0m, in \u001B[0;36m_mt_spectrum_proc\u001B[1;34m(x, sfreq, line_freqs, notch_widths, mt_bandwidth, p_value, picks, n_jobs, copy, filter_length)\u001B[0m\n\u001B[0;32m   1240\u001B[0m             freq_list\u001B[38;5;241m.\u001B[39mappend(f)\n\u001B[0;32m   1241\u001B[0m \u001B[38;5;28;01melse\u001B[39;00m:\n\u001B[1;32m-> 1242\u001B[0m     data_new \u001B[38;5;241m=\u001B[39m \u001B[43mparallel\u001B[49m\u001B[43m(\u001B[49m\u001B[43mp_fun\u001B[49m\u001B[43m(\u001B[49m\u001B[43mx_\u001B[49m\u001B[43m,\u001B[49m\u001B[43m \u001B[49m\u001B[43msfreq\u001B[49m\u001B[43m,\u001B[49m\u001B[43m \u001B[49m\u001B[43mline_freqs\u001B[49m\u001B[43m,\u001B[49m\u001B[43m \u001B[49m\u001B[43mnotch_widths\u001B[49m\u001B[43m,\u001B[49m\n\u001B[0;32m   1243\u001B[0m \u001B[43m                              \u001B[49m\u001B[43mwindow_fun\u001B[49m\u001B[43m,\u001B[49m\u001B[43m \u001B[49m\u001B[43mthreshold\u001B[49m\u001B[43m,\u001B[49m\u001B[43m \u001B[49m\u001B[43mget_wt\u001B[49m\u001B[43m)\u001B[49m\n\u001B[0;32m   1244\u001B[0m \u001B[43m                        \u001B[49m\u001B[38;5;28;43;01mfor\u001B[39;49;00m\u001B[43m \u001B[49m\u001B[43mxi\u001B[49m\u001B[43m,\u001B[49m\u001B[43m \u001B[49m\u001B[43mx_\u001B[49m\u001B[43m \u001B[49m\u001B[38;5;129;43;01min\u001B[39;49;00m\u001B[43m \u001B[49m\u001B[38;5;28;43menumerate\u001B[39;49m\u001B[43m(\u001B[49m\u001B[43mx\u001B[49m\u001B[43m)\u001B[49m\n\u001B[0;32m   1245\u001B[0m \u001B[43m                        \u001B[49m\u001B[38;5;28;43;01mif\u001B[39;49;00m\u001B[43m \u001B[49m\u001B[43mxi\u001B[49m\u001B[43m \u001B[49m\u001B[38;5;129;43;01min\u001B[39;49;00m\u001B[43m \u001B[49m\u001B[43mpicks\u001B[49m\u001B[43m)\u001B[49m\n\u001B[0;32m   1246\u001B[0m     freq_list \u001B[38;5;241m=\u001B[39m [d[\u001B[38;5;241m1\u001B[39m] \u001B[38;5;28;01mfor\u001B[39;00m d \u001B[38;5;129;01min\u001B[39;00m data_new]\n\u001B[0;32m   1247\u001B[0m     data_new \u001B[38;5;241m=\u001B[39m np\u001B[38;5;241m.\u001B[39marray([d[\u001B[38;5;241m0\u001B[39m] \u001B[38;5;28;01mfor\u001B[39;00m d \u001B[38;5;129;01min\u001B[39;00m data_new])\n",
      "File \u001B[1;32m~\\.conda\\envs\\preprocess\\lib\\site-packages\\joblib\\parallel.py:1061\u001B[0m, in \u001B[0;36mParallel.__call__\u001B[1;34m(self, iterable)\u001B[0m\n\u001B[0;32m   1058\u001B[0m     \u001B[38;5;28mself\u001B[39m\u001B[38;5;241m.\u001B[39m_iterating \u001B[38;5;241m=\u001B[39m \u001B[38;5;28;01mFalse\u001B[39;00m\n\u001B[0;32m   1060\u001B[0m \u001B[38;5;28;01mwith\u001B[39;00m \u001B[38;5;28mself\u001B[39m\u001B[38;5;241m.\u001B[39m_backend\u001B[38;5;241m.\u001B[39mretrieval_context():\n\u001B[1;32m-> 1061\u001B[0m     \u001B[38;5;28;43mself\u001B[39;49m\u001B[38;5;241;43m.\u001B[39;49m\u001B[43mretrieve\u001B[49m\u001B[43m(\u001B[49m\u001B[43m)\u001B[49m\n\u001B[0;32m   1062\u001B[0m \u001B[38;5;66;03m# Make sure that we get a last message telling us we are done\u001B[39;00m\n\u001B[0;32m   1063\u001B[0m elapsed_time \u001B[38;5;241m=\u001B[39m time\u001B[38;5;241m.\u001B[39mtime() \u001B[38;5;241m-\u001B[39m \u001B[38;5;28mself\u001B[39m\u001B[38;5;241m.\u001B[39m_start_time\n",
      "File \u001B[1;32m~\\.conda\\envs\\preprocess\\lib\\site-packages\\joblib\\parallel.py:938\u001B[0m, in \u001B[0;36mParallel.retrieve\u001B[1;34m(self)\u001B[0m\n\u001B[0;32m    936\u001B[0m \u001B[38;5;28;01mtry\u001B[39;00m:\n\u001B[0;32m    937\u001B[0m     \u001B[38;5;28;01mif\u001B[39;00m \u001B[38;5;28mgetattr\u001B[39m(\u001B[38;5;28mself\u001B[39m\u001B[38;5;241m.\u001B[39m_backend, \u001B[38;5;124m'\u001B[39m\u001B[38;5;124msupports_timeout\u001B[39m\u001B[38;5;124m'\u001B[39m, \u001B[38;5;28;01mFalse\u001B[39;00m):\n\u001B[1;32m--> 938\u001B[0m         \u001B[38;5;28mself\u001B[39m\u001B[38;5;241m.\u001B[39m_output\u001B[38;5;241m.\u001B[39mextend(\u001B[43mjob\u001B[49m\u001B[38;5;241;43m.\u001B[39;49m\u001B[43mget\u001B[49m\u001B[43m(\u001B[49m\u001B[43mtimeout\u001B[49m\u001B[38;5;241;43m=\u001B[39;49m\u001B[38;5;28;43mself\u001B[39;49m\u001B[38;5;241;43m.\u001B[39;49m\u001B[43mtimeout\u001B[49m\u001B[43m)\u001B[49m)\n\u001B[0;32m    939\u001B[0m     \u001B[38;5;28;01melse\u001B[39;00m:\n\u001B[0;32m    940\u001B[0m         \u001B[38;5;28mself\u001B[39m\u001B[38;5;241m.\u001B[39m_output\u001B[38;5;241m.\u001B[39mextend(job\u001B[38;5;241m.\u001B[39mget())\n",
      "File \u001B[1;32m~\\.conda\\envs\\preprocess\\lib\\site-packages\\joblib\\_parallel_backends.py:542\u001B[0m, in \u001B[0;36mLokyBackend.wrap_future_result\u001B[1;34m(future, timeout)\u001B[0m\n\u001B[0;32m    539\u001B[0m \u001B[38;5;124;03m\"\"\"Wrapper for Future.result to implement the same behaviour as\u001B[39;00m\n\u001B[0;32m    540\u001B[0m \u001B[38;5;124;03mAsyncResults.get from multiprocessing.\"\"\"\u001B[39;00m\n\u001B[0;32m    541\u001B[0m \u001B[38;5;28;01mtry\u001B[39;00m:\n\u001B[1;32m--> 542\u001B[0m     \u001B[38;5;28;01mreturn\u001B[39;00m \u001B[43mfuture\u001B[49m\u001B[38;5;241;43m.\u001B[39;49m\u001B[43mresult\u001B[49m\u001B[43m(\u001B[49m\u001B[43mtimeout\u001B[49m\u001B[38;5;241;43m=\u001B[39;49m\u001B[43mtimeout\u001B[49m\u001B[43m)\u001B[49m\n\u001B[0;32m    543\u001B[0m \u001B[38;5;28;01mexcept\u001B[39;00m CfTimeoutError \u001B[38;5;28;01mas\u001B[39;00m e:\n\u001B[0;32m    544\u001B[0m     \u001B[38;5;28;01mraise\u001B[39;00m \u001B[38;5;167;01mTimeoutError\u001B[39;00m \u001B[38;5;28;01mfrom\u001B[39;00m \u001B[38;5;21;01me\u001B[39;00m\n",
      "File \u001B[1;32m~\\.conda\\envs\\preprocess\\lib\\concurrent\\futures\\_base.py:453\u001B[0m, in \u001B[0;36mFuture.result\u001B[1;34m(self, timeout)\u001B[0m\n\u001B[0;32m    450\u001B[0m \u001B[38;5;28;01melif\u001B[39;00m \u001B[38;5;28mself\u001B[39m\u001B[38;5;241m.\u001B[39m_state \u001B[38;5;241m==\u001B[39m FINISHED:\n\u001B[0;32m    451\u001B[0m     \u001B[38;5;28;01mreturn\u001B[39;00m \u001B[38;5;28mself\u001B[39m\u001B[38;5;241m.\u001B[39m__get_result()\n\u001B[1;32m--> 453\u001B[0m \u001B[38;5;28;43mself\u001B[39;49m\u001B[38;5;241;43m.\u001B[39;49m\u001B[43m_condition\u001B[49m\u001B[38;5;241;43m.\u001B[39;49m\u001B[43mwait\u001B[49m\u001B[43m(\u001B[49m\u001B[43mtimeout\u001B[49m\u001B[43m)\u001B[49m\n\u001B[0;32m    455\u001B[0m \u001B[38;5;28;01mif\u001B[39;00m \u001B[38;5;28mself\u001B[39m\u001B[38;5;241m.\u001B[39m_state \u001B[38;5;129;01min\u001B[39;00m [CANCELLED, CANCELLED_AND_NOTIFIED]:\n\u001B[0;32m    456\u001B[0m     \u001B[38;5;28;01mraise\u001B[39;00m CancelledError()\n",
      "File \u001B[1;32m~\\.conda\\envs\\preprocess\\lib\\threading.py:320\u001B[0m, in \u001B[0;36mCondition.wait\u001B[1;34m(self, timeout)\u001B[0m\n\u001B[0;32m    318\u001B[0m \u001B[38;5;28;01mtry\u001B[39;00m:    \u001B[38;5;66;03m# restore state no matter what (e.g., KeyboardInterrupt)\u001B[39;00m\n\u001B[0;32m    319\u001B[0m     \u001B[38;5;28;01mif\u001B[39;00m timeout \u001B[38;5;129;01mis\u001B[39;00m \u001B[38;5;28;01mNone\u001B[39;00m:\n\u001B[1;32m--> 320\u001B[0m         \u001B[43mwaiter\u001B[49m\u001B[38;5;241;43m.\u001B[39;49m\u001B[43macquire\u001B[49m\u001B[43m(\u001B[49m\u001B[43m)\u001B[49m\n\u001B[0;32m    321\u001B[0m         gotit \u001B[38;5;241m=\u001B[39m \u001B[38;5;28;01mTrue\u001B[39;00m\n\u001B[0;32m    322\u001B[0m     \u001B[38;5;28;01melse\u001B[39;00m:\n",
      "\u001B[1;31mKeyboardInterrupt\u001B[0m: "
     ]
    }
   ],
   "source": [
    "# %% Filter the data\n",
    "# raw.drop_channels(raw.ch_names[10:158])\n",
    "# raw_dat.drop_channels(raw_dat.ch_names[10:158])\n",
    "# dat.drop_channels(dat.ch_names[10:158])\n",
    "# filt = mne.io.read_raw_fif(layout.root + \"/derivatives/sub-D00\" + str(\n",
    "#         sub_num) + \"_\" + TASK + \"_filt_ieeg.fif\")\n",
    "filt = line_filter(raw, mt_bandwidth=10.0, n_jobs=-1,\n",
    "                    filter_length='700ms', verbose=10,\n",
    "                    freqs=[60], notch_widths=20)\n",
    "filt2 = line_filter(filt, mt_bandwidth=10.0, n_jobs=-1,\n",
    "                filter_length='20s', verbose=10,\n",
    "                freqs=[120, 180, 240], notch_widths=20)\n"
   ]
  },
  {
   "cell_type": "code",
   "execution_count": 6,
   "metadata": {},
   "outputs": [
    {
     "ename": "MemoryError",
     "evalue": "Unable to allocate 30.5 GiB for an array with shape (1000, 4096001) and data type float64",
     "output_type": "error",
     "traceback": [
      "\u001B[1;31m---------------------------------------------------------------------------\u001B[0m",
      "\u001B[1;31mMemoryError\u001B[0m                               Traceback (most recent call last)",
      "Cell \u001B[1;32mIn[6], line 4\u001B[0m\n\u001B[0;32m      1\u001B[0m \u001B[38;5;66;03m# %% Plot the data\u001B[39;00m\n\u001B[0;32m      2\u001B[0m params \u001B[38;5;241m=\u001B[39m \u001B[38;5;28mdict\u001B[39m(method\u001B[38;5;241m=\u001B[39m\u001B[38;5;124m'\u001B[39m\u001B[38;5;124mmultitaper\u001B[39m\u001B[38;5;124m'\u001B[39m, fmin\u001B[38;5;241m=\u001B[39m\u001B[38;5;241m55\u001B[39m, fmax\u001B[38;5;241m=\u001B[39m\u001B[38;5;241m65\u001B[39m, tmax\u001B[38;5;241m=\u001B[39m\u001B[38;5;241m2000\u001B[39m,\n\u001B[0;32m      3\u001B[0m               bandwidth\u001B[38;5;241m=\u001B[39m\u001B[38;5;241m0.5\u001B[39m, n_jobs\u001B[38;5;241m=\u001B[39m\u001B[38;5;241m8\u001B[39m)\n\u001B[1;32m----> 4\u001B[0m fpsd \u001B[38;5;241m=\u001B[39m filt\u001B[38;5;241m.\u001B[39mcompute_psd(\u001B[38;5;241m*\u001B[39m\u001B[38;5;241m*\u001B[39mparams)\n\u001B[0;32m      5\u001B[0m fpsd\u001B[38;5;241m.\u001B[39mplot()\n",
      "File \u001B[1;32m<decorator-gen-238>:12\u001B[0m, in \u001B[0;36mcompute_psd\u001B[1;34m(self, method, fmin, fmax, tmin, tmax, picks, proj, reject_by_annotation, n_jobs, verbose, **method_kw)\u001B[0m\n",
      "File \u001B[1;32m~\\.conda\\envs\\preprocess\\lib\\site-packages\\mne\\io\\base.py:1845\u001B[0m, in \u001B[0;36mBaseRaw.compute_psd\u001B[1;34m(self, method, fmin, fmax, tmin, tmax, picks, proj, reject_by_annotation, n_jobs, verbose, **method_kw)\u001B[0m\n\u001B[0;32m   1812\u001B[0m \u001B[38;5;129m@verbose\u001B[39m\n\u001B[0;32m   1813\u001B[0m \u001B[38;5;28;01mdef\u001B[39;00m \u001B[38;5;21mcompute_psd\u001B[39m(\u001B[38;5;28mself\u001B[39m, method\u001B[38;5;241m=\u001B[39m\u001B[38;5;124m'\u001B[39m\u001B[38;5;124mwelch\u001B[39m\u001B[38;5;124m'\u001B[39m, fmin\u001B[38;5;241m=\u001B[39m\u001B[38;5;241m0\u001B[39m, fmax\u001B[38;5;241m=\u001B[39mnp\u001B[38;5;241m.\u001B[39minf, tmin\u001B[38;5;241m=\u001B[39m\u001B[38;5;28;01mNone\u001B[39;00m,\n\u001B[0;32m   1814\u001B[0m                 tmax\u001B[38;5;241m=\u001B[39m\u001B[38;5;28;01mNone\u001B[39;00m, picks\u001B[38;5;241m=\u001B[39m\u001B[38;5;28;01mNone\u001B[39;00m, proj\u001B[38;5;241m=\u001B[39m\u001B[38;5;28;01mFalse\u001B[39;00m,\n\u001B[0;32m   1815\u001B[0m                 reject_by_annotation\u001B[38;5;241m=\u001B[39m\u001B[38;5;28;01mTrue\u001B[39;00m, \u001B[38;5;241m*\u001B[39m, n_jobs\u001B[38;5;241m=\u001B[39m\u001B[38;5;241m1\u001B[39m, verbose\u001B[38;5;241m=\u001B[39m\u001B[38;5;28;01mNone\u001B[39;00m,\n\u001B[0;32m   1816\u001B[0m                 \u001B[38;5;241m*\u001B[39m\u001B[38;5;241m*\u001B[39mmethod_kw):\n\u001B[0;32m   1817\u001B[0m     \u001B[38;5;124;03m\"\"\"Perform spectral analysis on sensor data.\u001B[39;00m\n\u001B[0;32m   1818\u001B[0m \n\u001B[0;32m   1819\u001B[0m \u001B[38;5;124;03m    Parameters\u001B[39;00m\n\u001B[1;32m   (...)\u001B[0m\n\u001B[0;32m   1843\u001B[0m \u001B[38;5;124;03m    .. footbibliography::\u001B[39;00m\n\u001B[0;32m   1844\u001B[0m \u001B[38;5;124;03m    \"\"\"\u001B[39;00m\n\u001B[1;32m-> 1845\u001B[0m     \u001B[38;5;28;01mreturn\u001B[39;00m Spectrum(\n\u001B[0;32m   1846\u001B[0m         \u001B[38;5;28mself\u001B[39m, method\u001B[38;5;241m=\u001B[39mmethod, fmin\u001B[38;5;241m=\u001B[39mfmin, fmax\u001B[38;5;241m=\u001B[39mfmax, tmin\u001B[38;5;241m=\u001B[39mtmin, tmax\u001B[38;5;241m=\u001B[39mtmax,\n\u001B[0;32m   1847\u001B[0m         picks\u001B[38;5;241m=\u001B[39mpicks, proj\u001B[38;5;241m=\u001B[39mproj, reject_by_annotation\u001B[38;5;241m=\u001B[39mreject_by_annotation,\n\u001B[0;32m   1848\u001B[0m         n_jobs\u001B[38;5;241m=\u001B[39mn_jobs, verbose\u001B[38;5;241m=\u001B[39mverbose, \u001B[38;5;241m*\u001B[39m\u001B[38;5;241m*\u001B[39mmethod_kw)\n",
      "File \u001B[1;32m~\\.conda\\envs\\preprocess\\lib\\site-packages\\mne\\time_frequency\\spectrum.py:941\u001B[0m, in \u001B[0;36mSpectrum.__init__\u001B[1;34m(self, inst, method, fmin, fmax, tmin, tmax, picks, proj, reject_by_annotation, n_jobs, verbose, **method_kw)\u001B[0m\n\u001B[0;32m    939\u001B[0m     data \u001B[38;5;241m=\u001B[39m \u001B[38;5;28mself\u001B[39m\u001B[38;5;241m.\u001B[39minst\u001B[38;5;241m.\u001B[39mdata[\u001B[38;5;28mself\u001B[39m\u001B[38;5;241m.\u001B[39m_picks][:, \u001B[38;5;28mself\u001B[39m\u001B[38;5;241m.\u001B[39m_time_mask]\n\u001B[0;32m    940\u001B[0m \u001B[38;5;66;03m# compute the spectra\u001B[39;00m\n\u001B[1;32m--> 941\u001B[0m \u001B[38;5;28;43mself\u001B[39;49m\u001B[38;5;241;43m.\u001B[39;49m\u001B[43m_compute_spectra\u001B[49m\u001B[43m(\u001B[49m\u001B[43mdata\u001B[49m\u001B[43m,\u001B[49m\u001B[43m \u001B[49m\u001B[43mfmin\u001B[49m\u001B[43m,\u001B[49m\u001B[43m \u001B[49m\u001B[43mfmax\u001B[49m\u001B[43m,\u001B[49m\u001B[43m \u001B[49m\u001B[43mn_jobs\u001B[49m\u001B[43m,\u001B[49m\u001B[43m \u001B[49m\u001B[43mmethod_kw\u001B[49m\u001B[43m,\u001B[49m\u001B[43m \u001B[49m\u001B[43mverbose\u001B[49m\u001B[43m)\u001B[49m\n\u001B[0;32m    942\u001B[0m \u001B[38;5;66;03m# check for correct shape and bad values\u001B[39;00m\n\u001B[0;32m    943\u001B[0m \u001B[38;5;28mself\u001B[39m\u001B[38;5;241m.\u001B[39m_check_values()\n",
      "File \u001B[1;32m~\\.conda\\envs\\preprocess\\lib\\site-packages\\mne\\time_frequency\\spectrum.py:379\u001B[0m, in \u001B[0;36mBaseSpectrum._compute_spectra\u001B[1;34m(self, data, fmin, fmax, n_jobs, method_kw, verbose)\u001B[0m\n\u001B[0;32m    377\u001B[0m \u001B[38;5;28;01mdef\u001B[39;00m \u001B[38;5;21m_compute_spectra\u001B[39m(\u001B[38;5;28mself\u001B[39m, data, fmin, fmax, n_jobs, method_kw, verbose):\n\u001B[0;32m    378\u001B[0m     \u001B[38;5;66;03m# make the spectra\u001B[39;00m\n\u001B[1;32m--> 379\u001B[0m     result \u001B[38;5;241m=\u001B[39m \u001B[38;5;28;43mself\u001B[39;49m\u001B[38;5;241;43m.\u001B[39;49m\u001B[43m_psd_func\u001B[49m\u001B[43m(\u001B[49m\n\u001B[0;32m    380\u001B[0m \u001B[43m        \u001B[49m\u001B[43mdata\u001B[49m\u001B[43m,\u001B[49m\u001B[43m \u001B[49m\u001B[38;5;28;43mself\u001B[39;49m\u001B[38;5;241;43m.\u001B[39;49m\u001B[43msfreq\u001B[49m\u001B[43m,\u001B[49m\u001B[43m \u001B[49m\u001B[43mfmin\u001B[49m\u001B[38;5;241;43m=\u001B[39;49m\u001B[43mfmin\u001B[49m\u001B[43m,\u001B[49m\u001B[43m \u001B[49m\u001B[43mfmax\u001B[49m\u001B[38;5;241;43m=\u001B[39;49m\u001B[43mfmax\u001B[49m\u001B[43m,\u001B[49m\u001B[43m \u001B[49m\u001B[43mn_jobs\u001B[49m\u001B[38;5;241;43m=\u001B[39;49m\u001B[43mn_jobs\u001B[49m\u001B[43m,\u001B[49m\n\u001B[0;32m    381\u001B[0m \u001B[43m        \u001B[49m\u001B[43mverbose\u001B[49m\u001B[38;5;241;43m=\u001B[39;49m\u001B[43mverbose\u001B[49m\u001B[43m)\u001B[49m\n\u001B[0;32m    382\u001B[0m     \u001B[38;5;66;03m# assign ._data (handling unaggregated multitaper output)\u001B[39;00m\n\u001B[0;32m    383\u001B[0m     \u001B[38;5;28;01mif\u001B[39;00m method_kw\u001B[38;5;241m.\u001B[39mget(\u001B[38;5;124m'\u001B[39m\u001B[38;5;124moutput\u001B[39m\u001B[38;5;124m'\u001B[39m, \u001B[38;5;124m'\u001B[39m\u001B[38;5;124m'\u001B[39m) \u001B[38;5;241m==\u001B[39m \u001B[38;5;124m'\u001B[39m\u001B[38;5;124mcomplex\u001B[39m\u001B[38;5;124m'\u001B[39m:\n",
      "File \u001B[1;32m<decorator-gen-183>:12\u001B[0m, in \u001B[0;36mpsd_array_multitaper\u001B[1;34m(x, sfreq, fmin, fmax, bandwidth, adaptive, low_bias, normalization, output, n_jobs, verbose)\u001B[0m\n",
      "File \u001B[1;32m~\\.conda\\envs\\preprocess\\lib\\site-packages\\mne\\time_frequency\\multitaper.py:438\u001B[0m, in \u001B[0;36mpsd_array_multitaper\u001B[1;34m(x, sfreq, fmin, fmax, bandwidth, adaptive, low_bias, normalization, output, n_jobs, verbose)\u001B[0m\n\u001B[0;32m    435\u001B[0m dshape \u001B[38;5;241m=\u001B[39m x\u001B[38;5;241m.\u001B[39mshape[:\u001B[38;5;241m-\u001B[39m\u001B[38;5;241m1\u001B[39m]\n\u001B[0;32m    436\u001B[0m x \u001B[38;5;241m=\u001B[39m x\u001B[38;5;241m.\u001B[39mreshape(\u001B[38;5;241m-\u001B[39m\u001B[38;5;241m1\u001B[39m, n_times)\n\u001B[1;32m--> 438\u001B[0m dpss, eigvals, adaptive \u001B[38;5;241m=\u001B[39m \u001B[43m_compute_mt_params\u001B[49m\u001B[43m(\u001B[49m\n\u001B[0;32m    439\u001B[0m \u001B[43m    \u001B[49m\u001B[43mn_times\u001B[49m\u001B[43m,\u001B[49m\u001B[43m \u001B[49m\u001B[43msfreq\u001B[49m\u001B[43m,\u001B[49m\u001B[43m \u001B[49m\u001B[43mbandwidth\u001B[49m\u001B[43m,\u001B[49m\u001B[43m \u001B[49m\u001B[43mlow_bias\u001B[49m\u001B[43m,\u001B[49m\u001B[43m \u001B[49m\u001B[43madaptive\u001B[49m\u001B[43m)\u001B[49m\n\u001B[0;32m    440\u001B[0m n_tapers \u001B[38;5;241m=\u001B[39m \u001B[38;5;28mlen\u001B[39m(dpss)\n\u001B[0;32m    441\u001B[0m weights \u001B[38;5;241m=\u001B[39m np\u001B[38;5;241m.\u001B[39msqrt(eigvals)[np\u001B[38;5;241m.\u001B[39mnewaxis, :, np\u001B[38;5;241m.\u001B[39mnewaxis]\n",
      "File \u001B[1;32m<decorator-gen-182>:12\u001B[0m, in \u001B[0;36m_compute_mt_params\u001B[1;34m(n_times, sfreq, bandwidth, low_bias, adaptive, interp_from, verbose)\u001B[0m\n",
      "File \u001B[1;32m~\\.conda\\envs\\preprocess\\lib\\site-packages\\mne\\time_frequency\\multitaper.py:352\u001B[0m, in \u001B[0;36m_compute_mt_params\u001B[1;34m(n_times, sfreq, bandwidth, low_bias, adaptive, interp_from, verbose)\u001B[0m\n\u001B[0;32m    350\u001B[0m \u001B[38;5;66;03m# Compute DPSS windows\u001B[39;00m\n\u001B[0;32m    351\u001B[0m n_tapers_max \u001B[38;5;241m=\u001B[39m \u001B[38;5;28mint\u001B[39m(\u001B[38;5;241m2\u001B[39m \u001B[38;5;241m*\u001B[39m half_nbw)\n\u001B[1;32m--> 352\u001B[0m window_fun, eigvals \u001B[38;5;241m=\u001B[39m \u001B[43mdpss_windows\u001B[49m\u001B[43m(\u001B[49m\u001B[43mn_times\u001B[49m\u001B[43m,\u001B[49m\u001B[43m \u001B[49m\u001B[43mhalf_nbw\u001B[49m\u001B[43m,\u001B[49m\u001B[43m \u001B[49m\u001B[43mn_tapers_max\u001B[49m\u001B[43m,\u001B[49m\n\u001B[0;32m    353\u001B[0m \u001B[43m                                   \u001B[49m\u001B[43mlow_bias\u001B[49m\u001B[38;5;241;43m=\u001B[39;49m\u001B[43mlow_bias\u001B[49m\u001B[43m,\u001B[49m\n\u001B[0;32m    354\u001B[0m \u001B[43m                                   \u001B[49m\u001B[43minterp_from\u001B[49m\u001B[38;5;241;43m=\u001B[39;49m\u001B[43minterp_from\u001B[49m\u001B[43m)\u001B[49m\n\u001B[0;32m    355\u001B[0m logger\u001B[38;5;241m.\u001B[39minfo(\u001B[38;5;124m'\u001B[39m\u001B[38;5;124m    Using multitaper spectrum estimation with \u001B[39m\u001B[38;5;132;01m%d\u001B[39;00m\u001B[38;5;124m DPSS \u001B[39m\u001B[38;5;124m'\u001B[39m\n\u001B[0;32m    356\u001B[0m             \u001B[38;5;124m'\u001B[39m\u001B[38;5;124mwindows\u001B[39m\u001B[38;5;124m'\u001B[39m \u001B[38;5;241m%\u001B[39m \u001B[38;5;28mlen\u001B[39m(eigvals))\n\u001B[0;32m    358\u001B[0m \u001B[38;5;28;01mif\u001B[39;00m adaptive \u001B[38;5;129;01mand\u001B[39;00m \u001B[38;5;28mlen\u001B[39m(eigvals) \u001B[38;5;241m<\u001B[39m \u001B[38;5;241m3\u001B[39m:\n",
      "File \u001B[1;32m~\\.conda\\envs\\preprocess\\lib\\site-packages\\mne\\time_frequency\\multitaper.py:98\u001B[0m, in \u001B[0;36mdpss_windows\u001B[1;34m(N, half_nbw, Kmax, low_bias, interp_from, interp_kind)\u001B[0m\n\u001B[0;32m     95\u001B[0m     dpss \u001B[38;5;241m=\u001B[39m np\u001B[38;5;241m.\u001B[39marray(dpss)\n\u001B[0;32m     97\u001B[0m \u001B[38;5;28;01melse\u001B[39;00m:\n\u001B[1;32m---> 98\u001B[0m     dpss \u001B[38;5;241m=\u001B[39m \u001B[43msp_dpss\u001B[49m\u001B[43m(\u001B[49m\u001B[43mN\u001B[49m\u001B[43m,\u001B[49m\u001B[43m \u001B[49m\u001B[43mhalf_nbw\u001B[49m\u001B[43m,\u001B[49m\u001B[43m \u001B[49m\u001B[43mKmax\u001B[49m\u001B[43m)\u001B[49m\n\u001B[0;32m    100\u001B[0m \u001B[38;5;66;03m# Now find the eigenvalues of the original spectral concentration problem\u001B[39;00m\n\u001B[0;32m    101\u001B[0m \u001B[38;5;66;03m# Use the autocorr sequence technique from Percival and Walden, 1993 pg 390\u001B[39;00m\n\u001B[0;32m    102\u001B[0m \n\u001B[0;32m    103\u001B[0m \u001B[38;5;66;03m# compute autocorr using FFT (same as nitime.utils.autocorr(dpss) * N)\u001B[39;00m\n\u001B[0;32m    104\u001B[0m rxx_size \u001B[38;5;241m=\u001B[39m \u001B[38;5;241m2\u001B[39m \u001B[38;5;241m*\u001B[39m N \u001B[38;5;241m-\u001B[39m \u001B[38;5;241m1\u001B[39m\n",
      "File \u001B[1;32m~\\.conda\\envs\\preprocess\\lib\\site-packages\\scipy\\signal\\windows\\_windows.py:2027\u001B[0m, in \u001B[0;36mdpss\u001B[1;34m(M, NW, Kmax, sym, norm, return_ratios)\u001B[0m\n\u001B[0;32m   2024\u001B[0m e \u001B[38;5;241m=\u001B[39m nidx[\u001B[38;5;241m1\u001B[39m:] \u001B[38;5;241m*\u001B[39m (M \u001B[38;5;241m-\u001B[39m nidx[\u001B[38;5;241m1\u001B[39m:]) \u001B[38;5;241m/\u001B[39m \u001B[38;5;241m2.\u001B[39m\n\u001B[0;32m   2026\u001B[0m \u001B[38;5;66;03m# only calculate the highest Kmax eigenvalues\u001B[39;00m\n\u001B[1;32m-> 2027\u001B[0m w, windows \u001B[38;5;241m=\u001B[39m \u001B[43mlinalg\u001B[49m\u001B[38;5;241;43m.\u001B[39;49m\u001B[43meigh_tridiagonal\u001B[49m\u001B[43m(\u001B[49m\n\u001B[0;32m   2028\u001B[0m \u001B[43m    \u001B[49m\u001B[43md\u001B[49m\u001B[43m,\u001B[49m\u001B[43m \u001B[49m\u001B[43me\u001B[49m\u001B[43m,\u001B[49m\u001B[43m \u001B[49m\u001B[43mselect\u001B[49m\u001B[38;5;241;43m=\u001B[39;49m\u001B[38;5;124;43m'\u001B[39;49m\u001B[38;5;124;43mi\u001B[39;49m\u001B[38;5;124;43m'\u001B[39;49m\u001B[43m,\u001B[49m\u001B[43m \u001B[49m\u001B[43mselect_range\u001B[49m\u001B[38;5;241;43m=\u001B[39;49m\u001B[43m(\u001B[49m\u001B[43mM\u001B[49m\u001B[43m \u001B[49m\u001B[38;5;241;43m-\u001B[39;49m\u001B[43m \u001B[49m\u001B[43mKmax\u001B[49m\u001B[43m,\u001B[49m\u001B[43m \u001B[49m\u001B[43mM\u001B[49m\u001B[43m \u001B[49m\u001B[38;5;241;43m-\u001B[39;49m\u001B[43m \u001B[49m\u001B[38;5;241;43m1\u001B[39;49m\u001B[43m)\u001B[49m\u001B[43m)\u001B[49m\n\u001B[0;32m   2029\u001B[0m w \u001B[38;5;241m=\u001B[39m w[::\u001B[38;5;241m-\u001B[39m\u001B[38;5;241m1\u001B[39m]\n\u001B[0;32m   2030\u001B[0m windows \u001B[38;5;241m=\u001B[39m windows[:, ::\u001B[38;5;241m-\u001B[39m\u001B[38;5;241m1\u001B[39m]\u001B[38;5;241m.\u001B[39mT\n",
      "File \u001B[1;32m~\\.conda\\envs\\preprocess\\lib\\site-packages\\scipy\\linalg\\_decomp.py:1344\u001B[0m, in \u001B[0;36meigh_tridiagonal\u001B[1;34m(d, e, eigvals_only, select, select_range, check_finite, tol, lapack_driver)\u001B[0m\n\u001B[0;32m   1342\u001B[0m     \u001B[38;5;66;03m# Convert block-order to matrix-order\u001B[39;00m\n\u001B[0;32m   1343\u001B[0m     order \u001B[38;5;241m=\u001B[39m argsort(w)\n\u001B[1;32m-> 1344\u001B[0m     w, v \u001B[38;5;241m=\u001B[39m w[order], \u001B[43mv\u001B[49m\u001B[43m[\u001B[49m\u001B[43m:\u001B[49m\u001B[43m,\u001B[49m\u001B[43m \u001B[49m\u001B[43morder\u001B[49m\u001B[43m]\u001B[49m\n\u001B[0;32m   1345\u001B[0m \u001B[38;5;28;01melse\u001B[39;00m:\n\u001B[0;32m   1346\u001B[0m     v \u001B[38;5;241m=\u001B[39m v[:, :m]\n",
      "\u001B[1;31mMemoryError\u001B[0m: Unable to allocate 30.5 GiB for an array with shape (1000, 4096001) and data type float64"
     ]
    }
   ],
   "source": [
    "# %% Plot the data\n",
    "params = dict(method='multitaper', fmin=55, fmax=65, tmax=500,\n",
    "              bandwidth=0.5, n_jobs=8)\n",
    "fpsd = filt.compute_psd(**params)\n",
    "fpsd.plot()"
   ]
  },
  {
   "cell_type": "code",
   "execution_count": null,
   "outputs": [],
   "source": [
    "data = [raw, filt, filt2, raw_dat, dat]\n",
    "figure_compare(data, [\"BIDS Un\", \"BIDS 700ms \", \"BIDS 20s+700ms \", \"Un\",\n",
    "                    \"\"], avg=True, verbose=10, proj=True, fmax=250)\n",
    "figure_compare(data, [\"BIDS Un\", \"BIDS 700ms \", \"BIDS 20s+700ms \", \"Un\",\n",
    "                    \"\"], avg=False, verbose=10, proj=True, fmax=250)"
   ],
   "metadata": {
    "collapsed": false
   }
  },
  {
   "cell_type": "code",
   "execution_count": 4,
   "metadata": {},
   "outputs": [],
   "source": [
    "# load the data\n",
    "filt = mne.io.read_raw_fif(layout.root + \"/derivatives/sub-D00\" + str(29) + \"_\" + \"SentenceRep\" + \"_filt_ieeg.fif\")\n"
   ]
  },
  {
   "cell_type": "code",
   "execution_count": 40,
   "outputs": [
    {
     "name": "stderr",
     "output_type": "stream",
     "text": [
      "[Parallel(n_jobs=6)]: Using backend LokyBackend with 6 concurrent workers.\n",
      "[Parallel(n_jobs=6)]: Done  12 tasks      | elapsed:  2.0min\n",
      "[Parallel(n_jobs=6)]: Done  66 tasks      | elapsed: 10.6min\n",
      "[Parallel(n_jobs=6)]: Done 140 out of 140 | elapsed: 23.9min finished\n"
     ]
    }
   ],
   "source": [
    "freqs = np.arange(10, 200., 2.)\n",
    "events, event_id = mne.events_from_annotations(filt)\n",
    "auds = mne.Epochs(filt, events, event_id, tmin=-1, tmax=1.5, baseline=None)['Audio']\n",
    "power, itc = mne.time_frequency.tfr_multitaper(auds, freqs, time_bandwidth=5.0, n_cycles=freqs / 2, n_jobs=6)\n",
    "# power[0].plot()"
   ],
   "metadata": {
    "collapsed": false
   }
  },
  {
   "cell_type": "code",
   "execution_count": 9,
   "outputs": [
    {
     "data": {
      "text/plain": "<MNELineFigure size 1000x350 with 2 Axes>"
     },
     "execution_count": 9,
     "metadata": {},
     "output_type": "execute_result"
    }
   ],
   "source": [
    "# # import matplotlib\n",
    "# # %matplotlib\n",
    "# 57 = lpmf9\n",
    "# power.plot([57], baseline=(None,-.5),mode='mean', vmax=1e-10, vmin=-1e-10)\n",
    "# auds.plot()\n",
    "filt.plot_psd()"
   ],
   "metadata": {
    "collapsed": false
   }
  }
 ],
 "metadata": {
  "kernelspec": {
   "display_name": "preprocess",
   "language": "python",
   "name": "python3"
  },
  "language_info": {
   "codemirror_mode": {
    "name": "ipython",
    "version": 3
   },
   "file_extension": ".py",
   "mimetype": "text/x-python",
   "name": "python",
   "nbconvert_exporter": "python",
   "pygments_lexer": "ipython3",
   "version": "3.10.8"
  },
  "orig_nbformat": 4,
  "vscode": {
   "interpreter": {
    "hash": "270eae68e6d6ea83cfb0501106a6a2e9a0417c2484665f1204c45aa995e22a8a"
   }
  }
 },
 "nbformat": 4,
 "nbformat_minor": 2
}
